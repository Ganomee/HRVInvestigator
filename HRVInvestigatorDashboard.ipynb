{
 "cells": [
  {
   "cell_type": "markdown",
   "id": "f7f16518-1932-439d-85da-a84d16778ee8",
   "metadata": {
    "jp-MarkdownHeadingCollapsed": true,
    "tags": []
   },
   "source": [
    "# HRV Investigator - Overview\n"
   ]
  },
  {
   "cell_type": "markdown",
   "id": "95c01707-dd19-4085-be4b-9c5f96c45fa3",
   "metadata": {
    "tags": []
   },
   "source": [
    "# Imports / Installs"
   ]
  },
  {
   "cell_type": "code",
   "execution_count": 1,
   "id": "41e40a29",
   "metadata": {},
   "outputs": [],
   "source": [
    "import sys\n",
    "import importlib.util\n",
    "\n",
    "\n",
    "def checkAndInstallPip(package_name):\n",
    "    if importlib.util.find_spec(package_name) is not None:\n",
    "        print(f\"{package_name!r} already installed\")\n",
    "    else:        \n",
    "        print(f\"{package_name!r} will be installed\")\n",
    "        !{sys.executable} - m pip install {package_name}\n",
    "\n",
    "\n",
    "def checkAndInstallConda(package_name, channel=None):\n",
    "    if importlib.util.find_spec(package_name) is not None:\n",
    "        print(f\"{package_name!r} already installed\")\n",
    "    else:\n",
    "        print(f\"{package_name!r} will be installed\")\n",
    "        if channel is not None:\n",
    "            %conda install - -yes - -prefix {sys.prefix} - c {channel} {package_name}\n",
    "        else:\n",
    "            %conda install - -yes - -prefix {sys.prefix} {package_name}\n"
   ]
  },
  {
   "cell_type": "code",
   "execution_count": 2,
   "id": "764eca6b-41bc-4d5c-bea2-6c1e927570af",
   "metadata": {},
   "outputs": [
    {
     "name": "stdout",
     "output_type": "stream",
     "text": [
      "'ipywidgets' already installed\n"
     ]
    }
   ],
   "source": [
    "try:\n",
    "    checkAndInstallConda(\"ipywidgets\", sys.prefix)\n",
    "except ImportError as e:\n",
    "    print(\"error\", e)\n",
    "    pass\n"
   ]
  },
  {
   "cell_type": "code",
   "execution_count": 3,
   "id": "992eb950-e6e3-4c9f-8f64-7117848eacb7",
   "metadata": {},
   "outputs": [
    {
     "name": "stdout",
     "output_type": "stream",
     "text": [
      "'numpy' already installed\n",
      "'mne' already installed\n",
      "'bqplot' already installed\n",
      "'holoviews' already installed\n"
     ]
    }
   ],
   "source": [
    "try:\n",
    "    checkAndInstallPip(\"numpy\")\n",
    "    checkAndInstallPip(\"mne\")\n",
    "    checkAndInstallPip(\"bqplot\")\n",
    "    checkAndInstallPip(\"holoviews\")\n",
    "except ImportError as e:\n",
    "    print(\"error\", e)\n",
    "    pass\n"
   ]
  },
  {
   "cell_type": "code",
   "execution_count": 4,
   "id": "ab899a6d-cff3-4f64-b920-35d4f302c13e",
   "metadata": {},
   "outputs": [],
   "source": [
    "# TODO check for jupyter_bookeh and Panel\n"
   ]
  },
  {
   "cell_type": "code",
   "execution_count": 5,
   "id": "20cef07b-2f51-4dcf-aead-7d6d6c695f30",
   "metadata": {},
   "outputs": [],
   "source": [
    "import numpy as np\n",
    "import panel as pn\n",
    "import param\n",
    "import ipywidgets as ipywidget\n",
    "import pickle\n",
    "\n",
    "from bokeh.plotting import figure\n",
    "from bokeh.models import ColumnDataSource\n",
    "# dummy input data\n",
    "import os\n"
   ]
  },
  {
   "cell_type": "code",
   "execution_count": 6,
   "id": "77c91442-78d6-4ef9-987f-16b4adc1771b",
   "metadata": {},
   "outputs": [
    {
     "data": {
      "application/javascript": "(function(root) {\n  function now() {\n    return new Date();\n  }\n\n  var force = true;\n\n  if (typeof root._bokeh_onload_callbacks === \"undefined\" || force === true) {\n    root._bokeh_onload_callbacks = [];\n    root._bokeh_is_loading = undefined;\n  }\n\n  if (typeof (root._bokeh_timeout) === \"undefined\" || force === true) {\n    root._bokeh_timeout = Date.now() + 5000;\n    root._bokeh_failed_load = false;\n  }\n\n  function run_callbacks() {\n    try {\n      root._bokeh_onload_callbacks.forEach(function(callback) {\n        if (callback != null)\n          callback();\n      });\n    } finally {\n      delete root._bokeh_onload_callbacks\n    }\n    console.debug(\"Bokeh: all callbacks have finished\");\n  }\n\n  function load_libs(css_urls, js_urls, js_modules, callback) {\n    if (css_urls == null) css_urls = [];\n    if (js_urls == null) js_urls = [];\n    if (js_modules == null) js_modules = [];\n\n    root._bokeh_onload_callbacks.push(callback);\n    if (root._bokeh_is_loading > 0) {\n      console.debug(\"Bokeh: BokehJS is being loaded, scheduling callback at\", now());\n      return null;\n    }\n    if (js_urls.length === 0 && js_modules.length === 0) {\n      run_callbacks();\n      return null;\n    }\n    console.debug(\"Bokeh: BokehJS not loaded, scheduling load and callback at\", now());\n\n    function on_load() {\n      root._bokeh_is_loading--;\n      if (root._bokeh_is_loading === 0) {\n        console.debug(\"Bokeh: all BokehJS libraries/stylesheets loaded\");\n        run_callbacks()\n      }\n    }\n\n    function on_error() {\n      console.error(\"failed to load \" + url);\n    }\n\n    for (var i = 0; i < css_urls.length; i++) {\n      var url = css_urls[i];\n      const element = document.createElement(\"link\");\n      element.onload = on_load;\n      element.onerror = on_error;\n      element.rel = \"stylesheet\";\n      element.type = \"text/css\";\n      element.href = url;\n      console.debug(\"Bokeh: injecting link tag for BokehJS stylesheet: \", url);\n      document.body.appendChild(element);\n    }\n\n    var skip = [];\n    if (window.requirejs) {\n      window.requirejs.config({'packages': {}, 'paths': {'xtermjs': 'https://cdn.jsdelivr.net/npm/xterm@4.14.1/lib/xterm', 'xtermjsweblinks': 'https://cdn.jsdelivr.net/npm/xterm-addon-web-links@0.4.0/lib/xterm-addon-web-links', 'gridstack': 'https://cdn.jsdelivr.net/npm/gridstack@4.2.5/dist/gridstack-h5', 'notyf': 'https://cdn.jsdelivr.net/npm/notyf@3/notyf.min'}, 'shim': {'xtermjsweblinks': {'exports': 'WebLinksAddon', 'deps': ['xtermjs']}, 'gridstack': {'exports': 'GridStack'}}});\n      require([\"xtermjs\"], function(xtermjs) {\n\twindow.xtermjs = xtermjs\n\ton_load()\n      })\n      require([\"xtermjsweblinks\"], function(WebLinksAddon) {\n\twindow.WebLinksAddon = WebLinksAddon\n\ton_load()\n      })\n      require([\"gridstack\"], function(GridStack) {\n\twindow.GridStack = GridStack\n\ton_load()\n      })\n      require([\"notyf\"], function() {\n\ton_load()\n      })\n      root._bokeh_is_loading = css_urls.length + 4;\n    } else {\n      root._bokeh_is_loading = css_urls.length + js_urls.length + js_modules.length;\n    }    if (((window['xtermjs'] !== undefined) && (!(window['xtermjs'] instanceof HTMLElement))) || window.requirejs) {\n      var urls = ['https://cdn.holoviz.org/panel/0.14.1/dist/bundled/terminal/xterm@4.14.1/lib/xterm.js', 'https://cdn.holoviz.org/panel/0.14.1/dist/bundled/terminal/xterm-addon-web-links@0.4.0/lib/xterm-addon-web-links.js'];\n      for (var i = 0; i < urls.length; i++) {\n        skip.push(urls[i])\n      }\n    }    if (((window['GridStack'] !== undefined) && (!(window['GridStack'] instanceof HTMLElement))) || window.requirejs) {\n      var urls = ['https://cdn.holoviz.org/panel/0.14.1/dist/bundled/gridstack/gridstack@4.2.5/dist/gridstack-h5.js'];\n      for (var i = 0; i < urls.length; i++) {\n        skip.push(urls[i])\n      }\n    }    if (((window['Notyf'] !== undefined) && (!(window['Notyf'] instanceof HTMLElement))) || window.requirejs) {\n      var urls = ['https://cdn.holoviz.org/panel/0.14.1/dist/bundled/notificationarea/notyf@3/notyf.min.js'];\n      for (var i = 0; i < urls.length; i++) {\n        skip.push(urls[i])\n      }\n    }    for (var i = 0; i < js_urls.length; i++) {\n      var url = js_urls[i];\n      if (skip.indexOf(url) >= 0) {\n\tif (!window.requirejs) {\n\t  on_load();\n\t}\n\tcontinue;\n      }\n      var element = document.createElement('script');\n      element.onload = on_load;\n      element.onerror = on_error;\n      element.async = false;\n      element.src = url;\n      console.debug(\"Bokeh: injecting script tag for BokehJS library: \", url);\n      document.head.appendChild(element);\n    }\n    for (var i = 0; i < js_modules.length; i++) {\n      var url = js_modules[i];\n      if (skip.indexOf(url) >= 0) {\n\tif (!window.requirejs) {\n\t  on_load();\n\t}\n\tcontinue;\n      }\n      var element = document.createElement('script');\n      element.onload = on_load;\n      element.onerror = on_error;\n      element.async = false;\n      element.src = url;\n      element.type = \"module\";\n      console.debug(\"Bokeh: injecting script tag for BokehJS library: \", url);\n      document.head.appendChild(element);\n    }\n    if (!js_urls.length && !js_modules.length) {\n      on_load()\n    }\n  };\n\n  function inject_raw_css(css) {\n    const element = document.createElement(\"style\");\n    element.appendChild(document.createTextNode(css));\n    document.body.appendChild(element);\n  }\n\n  var js_urls = [\"https://cdn.holoviz.org/panel/0.14.1/dist/bundled/terminal/xterm@4.14.1/lib/xterm.js\", \"https://cdn.holoviz.org/panel/0.14.1/dist/bundled/terminal/xterm-addon-web-links@0.4.0/lib/xterm-addon-web-links.js\", \"https://cdn.bokeh.org/bokeh/release/bokeh-2.4.3.min.js\", \"https://cdn.bokeh.org/bokeh/release/bokeh-gl-2.4.3.min.js\", \"https://cdn.bokeh.org/bokeh/release/bokeh-widgets-2.4.3.min.js\", \"https://cdn.bokeh.org/bokeh/release/bokeh-tables-2.4.3.min.js\", \"https://cdn.bokeh.org/bokeh/release/bokeh-mathjax-2.4.3.min.js\", \"https://cdn.holoviz.org/panel/0.14.1/dist/bundled/gridstack/gridstack@4.2.5/dist/gridstack-h5.js\", \"https://unpkg.com/@holoviz/panel@0.14.1/dist/panel.min.js\"];\n  var js_modules = [];\n  var css_urls = [\"https://cdn.holoviz.org/panel/0.14.1/dist/bundled/terminal/xterm@4.11.0/css/xterm.css\", \"https://cdn.holoviz.org/panel/0.14.1/dist/bundled/gridstack/gridstack@4.2.5/dist/gridstack.min.css\", \"https://cdn.holoviz.org/panel/0.14.1/dist/bundled/gridstack/gridstack@4.2.5/dist/gridstack-extra.min.css\", \"https://cdn.holoviz.org/panel/0.14.1/dist/css/loading.css\", \"https://cdn.holoviz.org/panel/0.14.1/dist/css/markdown.css\", \"https://cdn.holoviz.org/panel/0.14.1/dist/css/json.css\", \"https://cdn.holoviz.org/panel/0.14.1/dist/css/widgets.css\", \"https://cdn.holoviz.org/panel/0.14.1/dist/css/alerts.css\", \"https://cdn.holoviz.org/panel/0.14.1/dist/css/dataframe.css\", \"https://cdn.holoviz.org/panel/0.14.1/dist/css/debugger.css\", \"https://cdn.holoviz.org/panel/0.14.1/dist/css/card.css\"];\n  var inline_js = [    function(Bokeh) {\n      inject_raw_css(\"\\n    .bk.pn-loading.arc:before {\\n      background-image: url(\\\"data:image/svg+xml;base64,PHN2ZyB4bWxucz0iaHR0cDovL3d3dy53My5vcmcvMjAwMC9zdmciIHN0eWxlPSJtYXJnaW46IGF1dG87IGJhY2tncm91bmQ6IG5vbmU7IGRpc3BsYXk6IGJsb2NrOyBzaGFwZS1yZW5kZXJpbmc6IGF1dG87IiB2aWV3Qm94PSIwIDAgMTAwIDEwMCIgcHJlc2VydmVBc3BlY3RSYXRpbz0ieE1pZFlNaWQiPiAgPGNpcmNsZSBjeD0iNTAiIGN5PSI1MCIgZmlsbD0ibm9uZSIgc3Ryb2tlPSIjYzNjM2MzIiBzdHJva2Utd2lkdGg9IjEwIiByPSIzNSIgc3Ryb2tlLWRhc2hhcnJheT0iMTY0LjkzMzYxNDMxMzQ2NDE1IDU2Ljk3Nzg3MTQzNzgyMTM4Ij4gICAgPGFuaW1hdGVUcmFuc2Zvcm0gYXR0cmlidXRlTmFtZT0idHJhbnNmb3JtIiB0eXBlPSJyb3RhdGUiIHJlcGVhdENvdW50PSJpbmRlZmluaXRlIiBkdXI9IjFzIiB2YWx1ZXM9IjAgNTAgNTA7MzYwIDUwIDUwIiBrZXlUaW1lcz0iMDsxIj48L2FuaW1hdGVUcmFuc2Zvcm0+ICA8L2NpcmNsZT48L3N2Zz4=\\\");\\n      background-size: auto calc(min(50%, 400px));\\n    }\\n    \");\n    },    function(Bokeh) {\n      Bokeh.set_log_level(\"info\");\n    },\nfunction(Bokeh) {} // ensure no trailing comma for IE\n  ];\n\n  function run_inline_js() {\n    if ((root.Bokeh !== undefined) || (force === true)) {\n      for (var i = 0; i < inline_js.length; i++) {\n        inline_js[i].call(root, root.Bokeh);\n      }} else if (Date.now() < root._bokeh_timeout) {\n      setTimeout(run_inline_js, 100);\n    } else if (!root._bokeh_failed_load) {\n      console.log(\"Bokeh: BokehJS failed to load within specified timeout.\");\n      root._bokeh_failed_load = true;\n    }\n  }\n\n  if (root._bokeh_is_loading === 0) {\n    console.debug(\"Bokeh: BokehJS loaded, going straight to plotting\");\n    run_inline_js();\n  } else {\n    load_libs(css_urls, js_urls, js_modules, function() {\n      console.debug(\"Bokeh: BokehJS plotting callback run at\", now());\n      run_inline_js();\n    });\n  }\n}(window));",
      "application/vnd.holoviews_load.v0+json": ""
     },
     "metadata": {},
     "output_type": "display_data"
    },
    {
     "data": {
      "application/javascript": "\nif ((window.PyViz === undefined) || (window.PyViz instanceof HTMLElement)) {\n  window.PyViz = {comms: {}, comm_status:{}, kernels:{}, receivers: {}, plot_index: []}\n}\n\n\n    function JupyterCommManager() {\n    }\n\n    JupyterCommManager.prototype.register_target = function(plot_id, comm_id, msg_handler) {\n      if (window.comm_manager || ((window.Jupyter !== undefined) && (Jupyter.notebook.kernel != null))) {\n        var comm_manager = window.comm_manager || Jupyter.notebook.kernel.comm_manager;\n        comm_manager.register_target(comm_id, function(comm) {\n          comm.on_msg(msg_handler);\n        });\n      } else if ((plot_id in window.PyViz.kernels) && (window.PyViz.kernels[plot_id])) {\n        window.PyViz.kernels[plot_id].registerCommTarget(comm_id, function(comm) {\n          comm.onMsg = msg_handler;\n        });\n      } else if (typeof google != 'undefined' && google.colab.kernel != null) {\n        google.colab.kernel.comms.registerTarget(comm_id, (comm) => {\n          var messages = comm.messages[Symbol.asyncIterator]();\n          function processIteratorResult(result) {\n            var message = result.value;\n            console.log(message)\n            var content = {data: message.data, comm_id};\n            var buffers = []\n            for (var buffer of message.buffers || []) {\n              buffers.push(new DataView(buffer))\n            }\n            var metadata = message.metadata || {};\n            var msg = {content, buffers, metadata}\n            msg_handler(msg);\n            return messages.next().then(processIteratorResult);\n          }\n          return messages.next().then(processIteratorResult);\n        })\n      }\n    }\n\n    JupyterCommManager.prototype.get_client_comm = function(plot_id, comm_id, msg_handler) {\n      if (comm_id in window.PyViz.comms) {\n        return window.PyViz.comms[comm_id];\n      } else if (window.comm_manager || ((window.Jupyter !== undefined) && (Jupyter.notebook.kernel != null))) {\n        var comm_manager = window.comm_manager || Jupyter.notebook.kernel.comm_manager;\n        var comm = comm_manager.new_comm(comm_id, {}, {}, {}, comm_id);\n        if (msg_handler) {\n          comm.on_msg(msg_handler);\n        }\n      } else if ((plot_id in window.PyViz.kernels) && (window.PyViz.kernels[plot_id])) {\n        var comm = window.PyViz.kernels[plot_id].connectToComm(comm_id);\n        comm.open();\n        if (msg_handler) {\n          comm.onMsg = msg_handler;\n        }\n      } else if (typeof google != 'undefined' && google.colab.kernel != null) {\n        var comm_promise = google.colab.kernel.comms.open(comm_id)\n        comm_promise.then((comm) => {\n          window.PyViz.comms[comm_id] = comm;\n          if (msg_handler) {\n            var messages = comm.messages[Symbol.asyncIterator]();\n            function processIteratorResult(result) {\n              var message = result.value;\n              var content = {data: message.data};\n              var metadata = message.metadata || {comm_id};\n              var msg = {content, metadata}\n              msg_handler(msg);\n              return messages.next().then(processIteratorResult);\n            }\n            return messages.next().then(processIteratorResult);\n          }\n        }) \n        var sendClosure = (data, metadata, buffers, disposeOnDone) => {\n          return comm_promise.then((comm) => {\n            comm.send(data, metadata, buffers, disposeOnDone);\n          });\n        };\n        var comm = {\n          send: sendClosure\n        };\n      }\n      window.PyViz.comms[comm_id] = comm;\n      return comm;\n    }\n    window.PyViz.comm_manager = new JupyterCommManager();\n    \n\n\nvar JS_MIME_TYPE = 'application/javascript';\nvar HTML_MIME_TYPE = 'text/html';\nvar EXEC_MIME_TYPE = 'application/vnd.holoviews_exec.v0+json';\nvar CLASS_NAME = 'output';\n\n/**\n * Render data to the DOM node\n */\nfunction render(props, node) {\n  var div = document.createElement(\"div\");\n  var script = document.createElement(\"script\");\n  node.appendChild(div);\n  node.appendChild(script);\n}\n\n/**\n * Handle when a new output is added\n */\nfunction handle_add_output(event, handle) {\n  var output_area = handle.output_area;\n  var output = handle.output;\n  if ((output.data == undefined) || (!output.data.hasOwnProperty(EXEC_MIME_TYPE))) {\n    return\n  }\n  var id = output.metadata[EXEC_MIME_TYPE][\"id\"];\n  var toinsert = output_area.element.find(\".\" + CLASS_NAME.split(' ')[0]);\n  if (id !== undefined) {\n    var nchildren = toinsert.length;\n    var html_node = toinsert[nchildren-1].children[0];\n    html_node.innerHTML = output.data[HTML_MIME_TYPE];\n    var scripts = [];\n    var nodelist = html_node.querySelectorAll(\"script\");\n    for (var i in nodelist) {\n      if (nodelist.hasOwnProperty(i)) {\n        scripts.push(nodelist[i])\n      }\n    }\n\n    scripts.forEach( function (oldScript) {\n      var newScript = document.createElement(\"script\");\n      var attrs = [];\n      var nodemap = oldScript.attributes;\n      for (var j in nodemap) {\n        if (nodemap.hasOwnProperty(j)) {\n          attrs.push(nodemap[j])\n        }\n      }\n      attrs.forEach(function(attr) { newScript.setAttribute(attr.name, attr.value) });\n      newScript.appendChild(document.createTextNode(oldScript.innerHTML));\n      oldScript.parentNode.replaceChild(newScript, oldScript);\n    });\n    if (JS_MIME_TYPE in output.data) {\n      toinsert[nchildren-1].children[1].textContent = output.data[JS_MIME_TYPE];\n    }\n    output_area._hv_plot_id = id;\n    if ((window.Bokeh !== undefined) && (id in Bokeh.index)) {\n      window.PyViz.plot_index[id] = Bokeh.index[id];\n    } else {\n      window.PyViz.plot_index[id] = null;\n    }\n  } else if (output.metadata[EXEC_MIME_TYPE][\"server_id\"] !== undefined) {\n    var bk_div = document.createElement(\"div\");\n    bk_div.innerHTML = output.data[HTML_MIME_TYPE];\n    var script_attrs = bk_div.children[0].attributes;\n    for (var i = 0; i < script_attrs.length; i++) {\n      toinsert[toinsert.length - 1].childNodes[1].setAttribute(script_attrs[i].name, script_attrs[i].value);\n    }\n    // store reference to server id on output_area\n    output_area._bokeh_server_id = output.metadata[EXEC_MIME_TYPE][\"server_id\"];\n  }\n}\n\n/**\n * Handle when an output is cleared or removed\n */\nfunction handle_clear_output(event, handle) {\n  var id = handle.cell.output_area._hv_plot_id;\n  var server_id = handle.cell.output_area._bokeh_server_id;\n  if (((id === undefined) || !(id in PyViz.plot_index)) && (server_id !== undefined)) { return; }\n  var comm = window.PyViz.comm_manager.get_client_comm(\"hv-extension-comm\", \"hv-extension-comm\", function () {});\n  if (server_id !== null) {\n    comm.send({event_type: 'server_delete', 'id': server_id});\n    return;\n  } else if (comm !== null) {\n    comm.send({event_type: 'delete', 'id': id});\n  }\n  delete PyViz.plot_index[id];\n  if ((window.Bokeh !== undefined) & (id in window.Bokeh.index)) {\n    var doc = window.Bokeh.index[id].model.document\n    doc.clear();\n    const i = window.Bokeh.documents.indexOf(doc);\n    if (i > -1) {\n      window.Bokeh.documents.splice(i, 1);\n    }\n  }\n}\n\n/**\n * Handle kernel restart event\n */\nfunction handle_kernel_cleanup(event, handle) {\n  delete PyViz.comms[\"hv-extension-comm\"];\n  window.PyViz.plot_index = {}\n}\n\n/**\n * Handle update_display_data messages\n */\nfunction handle_update_output(event, handle) {\n  handle_clear_output(event, {cell: {output_area: handle.output_area}})\n  handle_add_output(event, handle)\n}\n\nfunction register_renderer(events, OutputArea) {\n  function append_mime(data, metadata, element) {\n    // create a DOM node to render to\n    var toinsert = this.create_output_subarea(\n    metadata,\n    CLASS_NAME,\n    EXEC_MIME_TYPE\n    );\n    this.keyboard_manager.register_events(toinsert);\n    // Render to node\n    var props = {data: data, metadata: metadata[EXEC_MIME_TYPE]};\n    render(props, toinsert[0]);\n    element.append(toinsert);\n    return toinsert\n  }\n\n  events.on('output_added.OutputArea', handle_add_output);\n  events.on('output_updated.OutputArea', handle_update_output);\n  events.on('clear_output.CodeCell', handle_clear_output);\n  events.on('delete.Cell', handle_clear_output);\n  events.on('kernel_ready.Kernel', handle_kernel_cleanup);\n\n  OutputArea.prototype.register_mime_type(EXEC_MIME_TYPE, append_mime, {\n    safe: true,\n    index: 0\n  });\n}\n\nif (window.Jupyter !== undefined) {\n  try {\n    var events = require('base/js/events');\n    var OutputArea = require('notebook/js/outputarea').OutputArea;\n    if (OutputArea.prototype.mime_types().indexOf(EXEC_MIME_TYPE) == -1) {\n      register_renderer(events, OutputArea);\n    }\n  } catch(err) {\n  }\n}\n",
      "application/vnd.holoviews_load.v0+json": ""
     },
     "metadata": {},
     "output_type": "display_data"
    },
    {
     "data": {
      "text/html": [
       "<style>.bk-root, .bk-root .bk:before, .bk-root .bk:after {\n",
       "  font-family: var(--jp-ui-font-size1);\n",
       "  font-size: var(--jp-ui-font-size1);\n",
       "  color: var(--jp-ui-font-color1);\n",
       "}\n",
       "</style>"
      ]
     },
     "metadata": {},
     "output_type": "display_data"
    }
   ],
   "source": [
    "# Panel Initialisation\n",
    "#pn.extension( css_files=[\"./style/dist/hrv.css\"])\n",
    "\n",
    "pn.extension('terminal', 'gridstack')\n",
    "pn.config.comms = \"vscode\"\n",
    "pn.param.ParamMethod.loading_indicator = True\n"
   ]
  },
  {
   "cell_type": "markdown",
   "id": "603e0c66-c8ad-4dc2-a532-73fdd02d655f",
   "metadata": {},
   "source": [
    "# Data Layout"
   ]
  },
  {
   "cell_type": "code",
   "execution_count": 7,
   "id": "9739f3df",
   "metadata": {},
   "outputs": [
    {
     "name": "stderr",
     "output_type": "stream",
     "text": [
      "WARNING:param.Select00101: Setting non-parameter attribute default=None using a mechanism intended only for parameters\n",
      "WARNING:param.Select00101: Setting non-parameter attribute allow_None=True using a mechanism intended only for parameters\n",
      "WARNING:param.Select00101: Setting non-parameter attribute check_on_set=False using a mechanism intended only for parameters\n",
      "WARNING:param.Select00102: Setting non-parameter attribute default=None using a mechanism intended only for parameters\n",
      "WARNING:param.Select00102: Setting non-parameter attribute allow_None=True using a mechanism intended only for parameters\n",
      "WARNING:param.Select00102: Setting non-parameter attribute check_on_set=False using a mechanism intended only for parameters\n"
     ]
    }
   ],
   "source": [
    "import param\n",
    "from components.dataStructure import DataHistoryItem, DataHistoryList\n",
    "from components.common.activeECGDataSelector import ECGHistorySelector, ECGRunSelector\n",
    "\n",
    "# Layout panes\n",
    "# Subcompoents of these panels are defined in their respective section\n",
    "processing_panel = None\n",
    "insights_panel = None\n",
    "ml_panel = None\n",
    "data_panel = None  # For managing storing and loading data\n",
    "console_panel = None  # For displaying messages and errors\n",
    "dashboard = None\n",
    "\n",
    "# Main DataFrame\n",
    "main_ecg_history = DataHistoryList()  \n",
    "\n",
    "# pathDefinition\n",
    "absPath = os.path.abspath('')"
   ]
  },
  {
   "cell_type": "markdown",
   "id": "e58d18c1-3254-45b0-a9e2-cb0cf3dbc181",
   "metadata": {},
   "source": [
    "# Temp - DataLoading"
   ]
  },
  {
   "cell_type": "code",
   "execution_count": 8,
   "id": "ad8bfa72",
   "metadata": {},
   "outputs": [
    {
     "name": "stdout",
     "output_type": "stream",
     "text": [
      "loading demo data from pickle\n",
      "<DataHistoryItem >\n",
      "<DataHistoryItem ECG1>\n"
     ]
    }
   ],
   "source": [
    "import mne\n",
    "import random\n",
    "\n",
    "\n",
    "\n",
    "def loadDemoData(usedPickle=True):\n",
    "    # get current absolute path \n",
    "    fileName = \"./DataArtifacts/demo_data.pickle\"\n",
    "    # combine to total path \n",
    "    filePath = os.path.join(absPath, fileName)\n",
    "    if usedPickle:\n",
    "        \n",
    "        # check for path\n",
    "        if os.path.isfile(filePath):\n",
    "            print(\"loading demo data from pickle\")\n",
    "            # load pickle\n",
    "            with open(filePath, \"rb\") as f:\n",
    "                demo_data = pickle.load(f)\n",
    "                main_ecg_history.addNewFromDict(demo_data)\n",
    "\n",
    "        else:\n",
    "            print(\"Instead loading demo data from pickle (it doesn't exists yet), we will load it from the original file\")\n",
    "            loadDemoData(False)\n",
    "    else:\n",
    "        # juts do the usual processing\n",
    "        raw = mne.io.read_raw_edf(\n",
    "            \"/home/ganomee/Documents/Projects/HRVInvestigator/hrvinvestigator_testing/P5 präiktual A1.edf\",\n",
    "            preload=True,\n",
    "        )\n",
    "        eeg_and_eog = raw.copy().pick_types(eeg=True, eog=True)\n",
    "        ecg_work_data = [eeg_and_eog[\"EKG1\"]\n",
    "                         [0].flatten(), eeg_and_eog[\"EKG2\"][0].flatten()]\n",
    "        ecg_timings = eeg_and_eog[\"EKG1\"][1]\n",
    "        fs = raw.info[\"sfreq\"]\n",
    "        data = ecg_work_data[0]\n",
    "        def random_binary_array(n, p):\n",
    "            return [random.choices([0, 1], [1-p, p], k=1)[0] for _ in range(n)]\n",
    "        ml_truth = random_binary_array(len(data), 0.1)\n",
    "        m_dummy = random_binary_array(len(data), 0.3)\n",
    "\n",
    "        data_obj = main_ecg_history.addNewFromDict(\n",
    "            {\"data\": data, \"features\": {\"sfreq\": fs}, \"name\": \"ECG1\", \"mlRuns\": {\"truth\":ml_truth,\"dummy\":m_dummy}})\n",
    "        # now pickle this data\n",
    "        with open(filePath, \"wb\") as f:\n",
    "            pickle.dump(data_obj.getSaveDict(), f, pickle.HIGHEST_PROTOCOL)\n",
    "\n",
    "\n",
    "loadDemoData(True)\n",
    "main_ecg_history.current.data = main_ecg_history.current.data[10000:20000:1]\n",
    "main_ecg_history.current.mlRuns[\"truth\"] = main_ecg_history.current.mlRuns[\"truth\"][10000:20000:1]\n",
    "main_ecg_history.current.mlRuns[\"dummy\"] = main_ecg_history.current.mlRuns[\"dummy\"][10000:20000:1]\n"
   ]
  },
  {
   "cell_type": "code",
   "execution_count": null,
   "id": "7f64da60-75fb-414b-ba7a-020d5aca26aa",
   "metadata": {},
   "outputs": [],
   "source": []
  },
  {
   "cell_type": "markdown",
   "id": "5abcc5d4-92c1-4d46-a36d-8a103c097f0e",
   "metadata": {},
   "source": [
    "# Processing panel"
   ]
  },
  {
   "cell_type": "markdown",
   "id": "e4b5cdd4-d4a2-4c96-8d9d-e32036615326",
   "metadata": {
    "tags": []
   },
   "source": [
    "## Sidebar"
   ]
  },
  {
   "cell_type": "markdown",
   "id": "5bb0309f-14f9-41eb-bf81-02e00aa107b9",
   "metadata": {
    "tags": []
   },
   "source": [
    "### Input Selector"
   ]
  },
  {
   "cell_type": "code",
   "execution_count": 9,
   "id": "d1d947d6-ff04-40d9-b91a-6af5eace33e8",
   "metadata": {},
   "outputs": [
    {
     "name": "stderr",
     "output_type": "stream",
     "text": [
      "WARNING:param.Select Input Type: Setting non-parameter attribute default=None using a mechanism intended only for parameters\n"
     ]
    }
   ],
   "source": [
    "# Input Type Selector # todo add default empty\n",
    "input_type_select = pn.widgets.Select(\n",
    "    name='Select Input Type', options=[\"\",'Variable', 'File'], default=None)\n",
    "# input_type_select\n"
   ]
  },
  {
   "cell_type": "markdown",
   "id": "40c404d1-b18a-4de4-bb65-63ae24752538",
   "metadata": {
    "tags": []
   },
   "source": [
    "#### Variable Selector"
   ]
  },
  {
   "cell_type": "code",
   "execution_count": 10,
   "id": "b8a7ba0e-d210-498a-a21f-da9cd83a37ef",
   "metadata": {},
   "outputs": [],
   "source": [
    "%%capture store_output\n",
    "# Varable Selctor cells\n",
    "# capture the store output to select from available ipy variables\n",
    "# todo run this on selection of input type\n",
    "%store\n"
   ]
  },
  {
   "cell_type": "code",
   "execution_count": 11,
   "id": "e17da564-6bcc-4e98-af33-a1090c1e1f10",
   "metadata": {},
   "outputs": [],
   "source": [
    "# filter those to get a list \n",
    "try:\n",
    "    var_options = [x[0] for x in store_output.stdout.split(\"\\n\")[1:-1]]\n",
    "except:\n",
    "    print(\"Jupyter unavailable\")\n",
    "    var_options = []\n",
    "input_select = pn.widgets.Select(\n",
    "    name='Select Input Variable', options=var_options)\n",
    "# input_select\n"
   ]
  },
  {
   "cell_type": "code",
   "execution_count": 12,
   "id": "f3a5fd0a",
   "metadata": {},
   "outputs": [],
   "source": [
    "# Single file selector\n",
    "class SingleVariableFileSelectorParam(param.Parameterized):\n",
    "    relPath = './DataArtifacts/*'\n",
    "    # combine to total path \n",
    "    path = os.path.join(absPath, relPath)    \n",
    "    value = param.FileSelector(path=path, precedence=0.5, label=\"Select Filename\")\n",
    "\n",
    "\n",
    "file_processing_param = SingleVariableFileSelectorParam()\n",
    "file_select = pn.Param(file_processing_param.param[\"value\"], widgets={\n",
    "                       'Select Filename': pn.widgets.Select}, show_name=False)\n",
    "\n",
    "\n",
    "# file_select\n"
   ]
  },
  {
   "cell_type": "markdown",
   "id": "66f025ba-9477-4c7b-9355-329df90a6fd3",
   "metadata": {},
   "source": [
    "#### Assembly"
   ]
  },
  {
   "cell_type": "code",
   "execution_count": 13,
   "id": "6699aaf4",
   "metadata": {},
   "outputs": [
    {
     "data": {
      "application/vnd.jupyter.widget-view+json": {
       "model_id": "ec3e5e6e62e0401583bac4a77b1e9ae4",
       "version_major": 2,
       "version_minor": 0
      },
      "text/plain": [
       "BokehModel(combine_events=True, render_bundle={'docs_json': {'08c6e0a9-b1ab-4aed-a2d1-cd2af1c4703a': {'defs': …"
      ]
     },
     "execution_count": 13,
     "metadata": {},
     "output_type": "execute_result"
    }
   ],
   "source": [
    "\n",
    "\n",
    "# Input loader button\n",
    "input_loader = pn.widgets.Button(name='Import Data', button_type='primary')\n",
    "\n",
    "\n",
    "def importDataProcessing(data,name):\n",
    "    print(\"importing data\")\n",
    "    # check if this data is a valid DataHistoryItem if so add it to the main history\n",
    "    if isinstance(data, DataHistoryItem):\n",
    "                print(\"Adding data to main history, recognised as DataHistoryItem\")\n",
    "                return main_ecg_history.addNew(data)\n",
    "    # otherwise assume that its just raw data and add it to the main history\n",
    "    else:\n",
    "        return main_ecg_history.addNewFromDict(\n",
    "            {\"data\": data, \"name\": name})\n",
    "\n",
    "def loadInput(event):\n",
    "    data = None\n",
    "    name = \"\"\n",
    "    try:\n",
    "        if input_type_select.value == \"Variable\":\n",
    "            %store -r $input_select.value\n",
    "            data = eval(input_select.value)\n",
    "            name = input_select.value\n",
    "            \n",
    "            \n",
    "        elif input_type_select.value == \"File\":\n",
    "            fileName = file_processing_param.value            \n",
    "            data = np.load(fileName, allow_pickle=True)\n",
    "            name = fileName.split(\"/\")[-1]\n",
    "        result = importDataProcessing(data,name)\n",
    "        # CHANGE CONTENT OF BUTTON TO REFLECT INPUT TYPE\n",
    "        input_loader.name = \"Input Loaded: \" + \\\n",
    "            str(result.getID())\n",
    "    except Exception as e:\n",
    "        input_loader.name = \"Error Loading Input\"\n",
    "        print(e)\n",
    "\n",
    "\n",
    "input_loader.on_click(loadInput)\n",
    "input_loader\n"
   ]
  },
  {
   "cell_type": "code",
   "execution_count": 14,
   "id": "9f5d07e1",
   "metadata": {},
   "outputs": [
    {
     "data": {
      "text/plain": [
       "Watcher(inst=Select(options=['', 'Variable', 'File']), cls=<class 'panel.widgets.select.Select'>, fn=<function updateInputAdditional at 0x7f3916dc65f0>, mode='args', onlychanged=True, parameter_names=('value',), what='value', queued=False, precedence=0)"
      ]
     },
     "execution_count": 14,
     "metadata": {},
     "output_type": "execute_result"
    }
   ],
   "source": [
    "# define input box\n",
    "input_box = pn.Card(input_type_select, '',\n",
    "                    input_loader, title=\"Quick Import\",  sizing_mode='stretch_width')\n",
    "input_box\n",
    "\n",
    "#create a watcher that replaces the input box with a new one if the input type changes\n",
    "@pn.depends(val=input_type_select.param.value, on_init=True, watch=False)\n",
    "def updateInputAdditional(event):\n",
    "    if input_type_select.value == \"Variable\":\n",
    "        input_box[1] = input_select\n",
    "    elif input_type_select.value == \"File\":\n",
    "        input_box[1] = file_select\n",
    "    else:\n",
    "        input_box[1] = \"\"\n",
    "input_type_select.param.watch(updateInputAdditional, 'value')"
   ]
  },
  {
   "cell_type": "markdown",
   "id": "9808f395",
   "metadata": {},
   "source": [
    "## Active Data Selector"
   ]
  },
  {
   "cell_type": "code",
   "execution_count": 15,
   "id": "e1aa06d0",
   "metadata": {},
   "outputs": [
    {
     "name": "stderr",
     "output_type": "stream",
     "text": [
      "WARNING:param.Select00120: Setting non-parameter attribute default=None using a mechanism intended only for parameters\n"
     ]
    },
    {
     "data": {
      "application/vnd.jupyter.widget-view+json": {
       "model_id": "885a0ba32dda4adebdf87b31bea2bf74",
       "version_major": 2,
       "version_minor": 0
      },
      "text/plain": [
       "BokehModel(combine_events=True, render_bundle={'docs_json': {'8c367d83-3f91-42a5-b684-2b77e8b086db': {'defs': …"
      ]
     },
     "execution_count": 15,
     "metadata": {},
     "output_type": "execute_result"
    }
   ],
   "source": [
    "\n",
    "processing_active_data_selector_object = ECGHistorySelector(ecg_history=main_ecg_history, label=\"Select Active Data Object\")\n",
    "processing_active_data_selector = processing_active_data_selector_object.render()\n",
    "\n",
    "def updateActiveDataValueProcessing(*events):\n",
    "    print(\"updating active data value\")\n",
    "    processing_active_data_selector.value = main_ecg_history.current.getID()\n",
    "    \n",
    "def updateCurrentEcgHistoryProcessing(*events):\n",
    "    print(\"updating current ecghistory\")\n",
    "    main_ecg_history.current = main_ecg_history.getHistoryFromID(processing_active_data_selector.value)\n",
    "\n",
    "\n",
    "# update value if the main_ecg_data current changes\n",
    "processing_active_data_selector_watcher = main_ecg_history.param.watch(\n",
    "    updateActiveDataValueProcessing , \"current\", onlychanged=True)\n",
    "# update the current data object in the main_ecg_history object if the selector changes\n",
    "processing_active_data_selector.param.watch(\n",
    "    updateCurrentEcgHistoryProcessing, \"value\")\n",
    "# create a box for the selector\n",
    "processing_active_data_selector_box = pn.Card(\n",
    "    processing_active_data_selector, title=\"Active Data Selector\",  sizing_mode='stretch_width')\n",
    "processing_active_data_selector_box"
   ]
  },
  {
   "cell_type": "markdown",
   "id": "b94503fc-2dc1-4326-9301-792767e3d89b",
   "metadata": {
    "tags": []
   },
   "source": [
    "### Process Selector"
   ]
  },
  {
   "cell_type": "code",
   "execution_count": 16,
   "id": "9240246a-050e-4517-bf6a-5f634d7ddc6d",
   "metadata": {},
   "outputs": [
    {
     "data": {
      "application/vnd.jupyter.widget-view+json": {
       "model_id": "f660415a5efd4131a965e1d690047a63",
       "version_major": 2,
       "version_minor": 0
      },
      "text/plain": [
       "BokehModel(combine_events=True, render_bundle={'docs_json': {'25443b53-59b4-4791-866f-58278524b878': {'defs': …"
      ]
     },
     "execution_count": 16,
     "metadata": {},
     "output_type": "execute_result"
    }
   ],
   "source": [
    "# data settings for the Pipeline selection\n",
    "pipelineBasePath = './Pipeline/*.py'\n",
    "pipelineModuleBasePath = \"Pipeline.\"\n",
    "pipelineObj = None\n",
    "\n",
    "# Single file selector\n",
    "\n",
    "\n",
    "class SingleCommandFileSelectorParam(param.Parameterized):\n",
    "    relPath = pipelineBasePath\n",
    "    # combine to total path \n",
    "    path = os.path.join(absPath, relPath)    \n",
    "    value = param.FileSelector(path=path, precedence=0.5)\n",
    "\n",
    "    def getFunctionName(value):\n",
    "        return value.split(\"/\")[-1].split(\".\")[0] if value != None else None\n",
    "\n",
    "\n",
    "action_param = SingleCommandFileSelectorParam\n",
    "action_select = pn.Param(action_param.param['value'], widgets={\n",
    "                         'Select Filename': pn.widgets.Select})\n",
    "\n",
    "action_select\n"
   ]
  },
  {
   "cell_type": "code",
   "execution_count": 17,
   "id": "8a7c873e",
   "metadata": {},
   "outputs": [],
   "source": [
    "# Pipeline arguemnts Select\n",
    "# helper function to import the class part of the pipeline module\n",
    "def importName(modulename, name):\n",
    "    \"\"\" Import a named object from a module in the context of this function.\n",
    "    \"\"\"\n",
    "    try:\n",
    "        module = __import__(modulename, globals(), locals(), [name])\n",
    "    except ImportError:\n",
    "        print(\"Error importing module: \" + modulename)\n",
    "        return None\n",
    "    return vars(module)[name]\n",
    "\n",
    "\n",
    "def renderAdditionalPipelineArguments(*events):\n",
    "    # get value from action_select\n",
    "    pipeline = None\n",
    "    if action_param.value is not None:\n",
    "        pipeline = action_param.getFunctionName(action_param.value)\n",
    "\n",
    "    if pipeline is not None:\n",
    "        pipelineModulePath = pipelineModuleBasePath + pipeline\n",
    "        pipeLineClass = importName(pipelineModulePath, pipeline)\n",
    "        if pipeLineClass is None:\n",
    "            print(\"Error importing pipeline class: \" + pipeline)\n",
    "\n",
    "        global pipelineObj\n",
    "        pipelineObj = pipeLineClass()\n",
    "        pipeLineInputs = pn.Param(pipelineObj.param)\n",
    "        return pn.Card(pipeLineInputs, title=\"Pipeline Arguments\")\n",
    "    else:\n",
    "        return pn.Card(title=\"Pipeline Arguments - Error\")\n",
    "\n",
    "\n",
    "# Install watcher for additional pipleline agruments on action select\n",
    "#PipelineArgumentWatcher = action_param.param.watch(renderAdditionalPipelineArguments,\"value\", onlychanged=False)\n"
   ]
  },
  {
   "cell_type": "code",
   "execution_count": 18,
   "id": "d2f0ae65",
   "metadata": {},
   "outputs": [
    {
     "name": "stdout",
     "output_type": "stream",
     "text": [
      "<DataHistoryItem >\n",
      "<DataHistoryItem ECG1#1>\n",
      "updating active data value\n",
      "updating current ecghistory\n",
      "updating active data value\n"
     ]
    }
   ],
   "source": [
    "main_ecg_history.addNewToExisting(\"ECG1\", data = main_ecg_history.current.data, features={\"peaks\":[0,1]}, runs = None)"
   ]
  },
  {
   "cell_type": "code",
   "execution_count": 19,
   "id": "0db6f05b-720a-41a8-9703-5b6c620c63af",
   "metadata": {},
   "outputs": [
    {
     "data": {
      "application/vnd.jupyter.widget-view+json": {
       "model_id": "3225dc7869ad4e2a9771a5bbc936dfc8",
       "version_major": 2,
       "version_minor": 0
      },
      "text/plain": [
       "BokehModel(combine_events=True, render_bundle={'docs_json': {'72be0ca8-a9dc-4e43-b785-8c7f67e3b7b9': {'defs': …"
      ]
     },
     "execution_count": 19,
     "metadata": {},
     "output_type": "execute_result"
    }
   ],
   "source": [
    "runPipelineButton = pn.widgets.Button(\n",
    "    name='Run Command', button_type='primary')\n",
    "\n",
    "\n",
    "def runPipeline(event):\n",
    "    try:\n",
    "        if pipelineObj is not None:\n",
    "            res = pipelineObj.run(main_ecg_history.current.data)\n",
    "            # Now combine result with history\n",
    "            print(\"A\")\n",
    "            id = main_ecg_history.current.getID()\n",
    "            print(\"b\")\n",
    "            data = res[\"data\"] if \"data\" in res else None\n",
    "            print(\"c\")\n",
    "            features = res[\"features\"] if \"features\" in res else None\n",
    "            mlRuns = res[\"mlRuns\"] if \"mlRuns\" in res else None\n",
    "            print(\"d\")\n",
    "            print(features, mlRuns)\n",
    "            main_ecg_history.addNewToExisting(id, data = data, features = features, runs = None)\n",
    "            \n",
    "            main_ecg_history.param.trigger('history')\n",
    "            main_ecg_history.param.trigger('current')\n",
    "            runPipelineButton.name = \"Command Run!\"\n",
    "        else:\n",
    "            print(\"No Pipeline Object\")\n",
    "            runPipelineButton.name = \"Error Running Command\"\n",
    "    except:\n",
    "        print(\"Error running command\")\n",
    "        runPipelineButton.name = \"Error Running Command\"\n",
    "\n",
    "\n",
    "runPipelineButton.on_click(runPipeline)\n",
    "action_box = pn.Card(action_select, renderAdditionalPipelineArguments,\n",
    "                     runPipelineButton, title=\"Pipeline Selector\", sizing_mode='stretch_width')\n",
    "\n",
    "\n",
    "def updateAdditionalRenderings(*events):\n",
    "    action_box[1] = renderAdditionalPipelineArguments()\n",
    "\n",
    "\n",
    "action_param.param.watch(updateAdditionalRenderings, \"value\")\n",
    "action_box\n"
   ]
  },
  {
   "cell_type": "code",
   "execution_count": null,
   "id": "406e0c8b",
   "metadata": {},
   "outputs": [],
   "source": []
  },
  {
   "cell_type": "markdown",
   "id": "14863ace-2329-47ec-82aa-d1e671ad1546",
   "metadata": {},
   "source": [
    "### Assembly"
   ]
  },
  {
   "cell_type": "code",
   "execution_count": 20,
   "id": "eddbbbe4",
   "metadata": {},
   "outputs": [
    {
     "data": {
      "application/vnd.jupyter.widget-view+json": {
       "model_id": "37c99ffd33044851932944b6d8233f5b",
       "version_major": 2,
       "version_minor": 0
      },
      "text/plain": [
       "BokehModel(combine_events=True, render_bundle={'docs_json': {'6fcfa69c-aac3-4fae-844e-b3b26eaf6f81': {'defs': …"
      ]
     },
     "execution_count": 20,
     "metadata": {},
     "output_type": "execute_result"
    }
   ],
   "source": [
    "# create a column that contains the input selector and the button\n",
    "sidebar_processing = pn.Column(input_box, processing_active_data_selector_box, action_box, css_classes=[\"sidebar\"])\n",
    "sidebar_processing\n"
   ]
  },
  {
   "cell_type": "markdown",
   "id": "dd5f9a36-3818-45a9-a4bc-045adcc1505f",
   "metadata": {},
   "source": [
    "## Main Content"
   ]
  },
  {
   "cell_type": "code",
   "execution_count": null,
   "id": "23893719",
   "metadata": {},
   "outputs": [],
   "source": []
  },
  {
   "cell_type": "markdown",
   "id": "747e009f",
   "metadata": {},
   "source": [
    "### Data Definition\n"
   ]
  },
  {
   "cell_type": "code",
   "execution_count": 21,
   "id": "3a878baf",
   "metadata": {},
   "outputs": [
    {
     "name": "stderr",
     "output_type": "stream",
     "text": [
      "WARNING:param.Select00146: Setting non-parameter attribute default=None using a mechanism intended only for parameters\n",
      "WARNING:param.Select00148: Setting non-parameter attribute default=None using a mechanism intended only for parameters\n"
     ]
    }
   ],
   "source": [
    "# now the buttons to select the correct timescale data\n",
    "time_scale_input_selector_1 = ECGHistorySelector(ecg_history=main_ecg_history, label='Select Input for Visualization 1').render()\n",
    "time_scale_input_selector_2 = ECGHistorySelector(ecg_history=main_ecg_history, label='Select Input for Visualization 2').render()\n",
    "\n"
   ]
  },
  {
   "cell_type": "code",
   "execution_count": null,
   "id": "4e4cd769",
   "metadata": {},
   "outputs": [],
   "source": []
  },
  {
   "cell_type": "code",
   "execution_count": 22,
   "id": "34f0b0bf",
   "metadata": {},
   "outputs": [
    {
     "name": "stdout",
     "output_type": "stream",
     "text": [
      "loading demo data from pickle\n",
      "<DataHistoryItem >\n",
      "<DataHistoryItem ECG1#2>\n",
      "updating active data value\n",
      "updating current ecghistory\n",
      "updating active data value\n"
     ]
    }
   ],
   "source": [
    "loadDemoData(True)\n",
    "# alter last entry so we can see difference #todo remove if dummy data is no longer needed\n",
    "main_ecg_history.current.data = main_ecg_history.current.data[1000:10000:1]\n",
    "main_ecg_history.current.mlRuns[\"truth\"] = main_ecg_history.current.mlRuns[\"truth\"][1000:10000:1]\n",
    "main_ecg_history.current.mlRuns[\"dummy\"] = main_ecg_history.current.mlRuns[\"dummy\"][1000:10000:1]\n",
    "\n",
    "processing_window_selector = pn.widgets.EditableRangeSlider(name='Processing Window', start=0, end=100, value=(\n",
    "    0, 100), step=1, format=\"0[.]00\", sizing_mode='stretch_width', css_classes=[\"window1\"])\n",
    "\n",
    "\n",
    "# TODO this should be dependent on the (first input)\n",
    "@pn.depends(time_scale_input_selector_1, watch=True, on_init=True)\n",
    "def updateProcessingWindowSelector(time_scale_selector=time_scale_input_selector_1):\n",
    "    print(\"updating window selector view\")\n",
    "    # get current timescale data\n",
    "    time_scale_obj = main_ecg_history.getHistoryFromID(time_scale_selector)\n",
    "    time_scale_data = time_scale_obj.data\n",
    "\n",
    "    # get count of datapoints\n",
    "    data_count = len(time_scale_data)\n",
    "    # get sampling rate \n",
    "    if \"sfreq\" in time_scale_obj.features:\n",
    "        #rate = time_scale_obj.features[\"signalFreq\"] change when visulisation respects frequency\n",
    "        rate =1\n",
    "    else:\n",
    "        rate = 1\n",
    "    # set start and end to 0 and count/sampling rate\n",
    "    processing_window_selector.start = 0\n",
    "    processing_window_selector.end = data_count/rate\n",
    "    v1, v2 = processing_window_selector.value\n",
    "    # TODO this should be dependent on the (first input)\n",
    "    processing_window_selector.value = (max(v1, 0), min(v2, data_count/rate))\n"
   ]
  },
  {
   "cell_type": "code",
   "execution_count": 23,
   "id": "f2f688a5",
   "metadata": {},
   "outputs": [],
   "source": [
    "from bokeh.plotting import figure, show\n",
    "from bokeh.models import ColumnDataSource, Scatter\n",
    "from bokeh.models import CustomJS, TapTool\n",
    "from bokeh.models import ColumnDataSource, Column\n",
    "from bokeh.events import DoubleTap\n",
    "\n",
    "def displayTimelinePlot(time_scale_selector, timeline_window=None, signalList=[], css_classes=[]):\n",
    "   \n",
    "    # step 1 get data from input selector\n",
    "    data_stream = main_ecg_history.getHistoryFromID(time_scale_selector)\n",
    "\n",
    "    # define timestamps based on data length and sampling rate\n",
    "    freq = 1    \n",
    "    if 'sfreq' in data_stream.features:\n",
    "        freq = data_stream.features['sfreq']\n",
    "    time_stamps = np.arange(0, int(len(data_stream.data)/1))\n",
    "    # step 2 read the window selector\n",
    "    if timeline_window is None:\n",
    "        # then take the entire data stream\n",
    "        timeline_window = [0, len(data_stream.data)]\n",
    "    f_data_stream = data_stream.data\n",
    "    f_time_stamps = time_stamps\n",
    "\n",
    "    figureDataSourceDict = dict(\n",
    "        time_stamps=f_time_stamps, ECG=f_data_stream.data)\n",
    "    # check if peaks in signal\n",
    "    figureScatterSourceDict = {}\n",
    "    scatterSource = None #backup for when no peaks are found\n",
    "    def updatePeakDataOnChange(attr, old, new):\n",
    "        index = None\n",
    "        # find index of changed peak\n",
    "        #for i in range(len(new[\"peakLocations\"])):\n",
    "        #    if new[i] != old[i]:\n",
    "        #        # update the peak\n",
    "        #        index = i\n",
    "        #        break\n",
    "        #print(\"index of changed peak: \", index)\n",
    "        #print(\"old: \", str(old))\n",
    "        #print(\"new: \", str(new))\n",
    "        #data_stream.updateFromDict(new)\n",
    "        # set the new peak data\n",
    "        #data_stream.features[\"peaks\"] = \n",
    "        # trgger change\n",
    "    if \"peaks\" in data_stream.features:\n",
    "        # transform peaks so a 1 is at the peak location\n",
    "        # filter peaks so they are unique\n",
    "        figureScatterSourceDict[\"peakLocations\"] = np.unique(data_stream.features[\"peaks\"])\n",
    "        figureScatterSourceDict[\"peaks\"] = data_stream.data[figureScatterSourceDict[\"peakLocations\"]]\n",
    "        \n",
    "        scatterSource = ColumnDataSource(data=figureScatterSourceDict)\n",
    "        scatterSource.on_change('data', updatePeakDataOnChange)\n",
    "        \n",
    "\n",
    "    # define dictionary based on data\n",
    "    cds = ColumnDataSource(data=figureDataSourceDict)\n",
    "    cds.on_change('data', lambda attr, old, new: print(\"data changed\"))\n",
    "    # define tools \n",
    "    tools = 'tap,box_zoom,pan'\n",
    "    x_range=(timeline_window[0], timeline_window[1])\n",
    "    y_range =(min(f_data_stream.data), max(f_data_stream.data))\n",
    "    #create custom tap tool with python callback\n",
    "    testCallback = CustomJS(args=dict(lineData=cds, peakData=scatterSource, windowY=y_range, windowX=x_range), code=\"\"\" \n",
    "                            // check if peaks are present\n",
    "                            console.log(windowY);\n",
    "                            let event_data = cb_data;\n",
    "                            console.log(\"event data\", event_data);\n",
    "                            let posX = event_data.geometries.x;\n",
    "                            let posY = event_data.geometries.y;\n",
    "                            console.log(\"tap at x: \" + posX + \" y: \" + posY);\n",
    "                            if (peakData == null){ return; }\n",
    "                            // check if there is a close peak in peak data\n",
    "                            console.log(\"peak data\", peakData);\n",
    "                            let peakX = Array.from(peakData.data.peakLocations);\n",
    "                            let peakY = Array.from(peakData.data.peaks);\n",
    "                            // calc how large the real glyph of the peak is, so we can check against it\n",
    "                            let glyphSizeXpercent = 10/800; // 10/600 glyphsize/width\n",
    "                            let glyphSizeYpercent = 10/600; // 10/600\n",
    "                            let glyphSizeX = (windowX[1] - windowX[0]) * glyphSizeXpercent;\n",
    "                            let glyphSizeY = (windowY[1] - windowY[0]) * glyphSizeYpercent;\n",
    "                            \n",
    "                            \n",
    "                            // check if there is a peak close to the tap\n",
    "                            let i = 0\n",
    "                            let foundPeak = false;\n",
    "                            for (i; i < peakX.length; i++){\n",
    "                                // break if x is larger than posX\n",
    "                                if (peakX[i] > posX+glyphSizeX/2){ break; }\n",
    "                                // otherwise check if x is close to posX\n",
    "                                if (Math.abs(peakX[i] - posX) < glyphSizeX/2){\n",
    "                                    // check if y is close to posY\n",
    "                                    if (Math.abs(peakY[i] - posY) < glyphSizeY/2){\n",
    "                                        // then we have a peak close to the tap\n",
    "                                        // and we can remove the peak\n",
    "                                        console.log(\"removing peak at x: \" + peakX[i] + \" y: \" + peakY[i]);\n",
    "                                        console.log(peakX, peakY);\n",
    "                                        peakX.splice(i, 1);\n",
    "                                        peakY.splice(i, 1);  \n",
    "                                        console.log(peakX, peakY);                                      \n",
    "                                        foundPeak = true;\n",
    "                                        break;\n",
    "                                        \n",
    "                                        }\n",
    "                                        else{\n",
    "                                        console.log(Math.abs(peakY[i] - posY), glyphSizeY/2);\n",
    "                                        }\n",
    "                                    }\n",
    "                                    else{\n",
    "                                    console.log(Math.abs(peakX[i] - posX), glyphSizeX/2);\n",
    "                                }\n",
    "                                    \n",
    "                                }\n",
    "                                \n",
    "                                \n",
    "                                        \n",
    "                             \n",
    "                            // otherwise we add a new peak at the point just after element i\n",
    "                            if (!foundPeak){\n",
    "                            peakX.splice(i, 0, posX);\n",
    "                            peakY.splice(i, 0, posY);\n",
    "                            }\n",
    "                            \n",
    "                                \n",
    "                            \n",
    "                            console.log('tap tool callback')                            \n",
    "                            peakData.data = {peaks: peakY, peakLocations: peakX}\n",
    "                            peakData.change.emit();                           \n",
    "                            \"\"\")\n",
    "    cTapTool = TapTool(callback=testCallback)\n",
    "    \n",
    "    p = figure(sizing_mode='stretch_width', title='', x_range=x_range, y_range=y_range, \n",
    "               css_classes=css_classes, tools= [cTapTool, 'box_zoom', 'pan'], plot_width=800, plot_height=300)\n",
    "\n",
    "    p.line('time_stamps', 'ECG', source=cds)\n",
    "    if len(figureScatterSourceDict) > 0:\n",
    "        # register a callback vent for when a user clicks a scatter point\n",
    "        updateScatterSelection = CustomJS(args=dict(source= scatterSource ), \n",
    "                                          code=\"\"\"\n",
    "                let inds = cb_obj.indices;\n",
    "                let d1 = source.data; \n",
    "            \n",
    "                d1['peaks'] = Array.from(d1['peaks']);\n",
    "                let d2 = {}\n",
    "                d2['peakLocations'] = []\n",
    "                d2['peaks'] = []\n",
    "                \n",
    "                for (let i = 0; i < inds.length; i++) {\n",
    "                    d2['peakLocations'].push(d1['peakLocations'][inds[i]])\n",
    "                    d2['peaks'].push(d1['peaks'][inds[i]])\n",
    "                }\n",
    "                for (let elem of d2['peakLocations']) {\n",
    "                    const index = d1['peakLocations'].indexOf(elem);\n",
    "                    if (index > -1) { // only splice array when item is found\n",
    "                    d1['peakLocations'].splice(index, 1); //2nd parameter means remove one item only\n",
    "                    d1['peaks'].splice(index, 1); //2nd parameter means remove one item only\n",
    "                    }\n",
    "                }\n",
    "                source.selected.indices = [] // reset selections\n",
    "                source.change.emit();\n",
    "                \n",
    "            \"\"\")\n",
    "                      \n",
    "        \n",
    "        scatterSource.selected.js_on_change('indices', updateScatterSelection)\n",
    "        #scatterSource.selected.on_change('indices', testCallback)\n",
    "        # scatterplot with circle indicators of peaks\n",
    "        p.scatter('peakLocations', 'peaks', source= scatterSource , marker=\"circle\", size=10, color=\"red\")\n",
    "\n",
    "    # render pane\n",
    "    bk_pane = pn.pane.Bokeh(p, css_classes=css_classes,\n",
    "                            sizing_mode='stretch_width')\n",
    "    return bk_pane\n",
    "\n",
    "\n",
    "@pn.depends(time_scale_input_selector_1, processing_window_selector)\n",
    "def buildTimelineVis1(time_scale_selector=time_scale_input_selector_1, timeline_window=processing_window_selector):\n",
    "    \n",
    "    try:\n",
    "        res = displayTimelinePlot(time_scale_selector, timeline_window, css_classes=[\"vis1\"])\n",
    "        #res = None\n",
    "        \n",
    "    except Exception as e:\n",
    "        print(e)\n",
    "        res = None\n",
    "    return res if res is not None else pn.pane.Markdown(\"No data available\")\n",
    "\n",
    "\n",
    "@pn.depends(time_scale_input_selector_2, processing_window_selector)\n",
    "def buildTimelineVis2(time_scale_selector=time_scale_input_selector_2, timeline_window=processing_window_selector):\n",
    "    res = displayTimelinePlot(time_scale_selector, timeline_window, css_classes=[\"vis2\"])\n",
    "    #res = None\n",
    "    return res if res is not None else pn.pane.Markdown(\"No data available\")\n"
   ]
  },
  {
   "cell_type": "markdown",
   "id": "bd3d0f40",
   "metadata": {},
   "source": [
    "### Assembly"
   ]
  },
  {
   "cell_type": "code",
   "execution_count": 24,
   "id": "484fee7f",
   "metadata": {},
   "outputs": [],
   "source": [
    "main_processing = pn.Column(css_classes=[\"main-content\"])\n",
    "top_row_1 = pn.Row(time_scale_input_selector_1, height=60, sizing_mode='fixed')\n",
    "top_row_2 = pn.Row(buildTimelineVis1, sizing_mode='stretch_width')\n",
    "middle_row = pn.Row(processing_window_selector, sizing_mode='stretch_width')\n",
    "bot_row_1 = pn.Row(time_scale_input_selector_2, sizing_mode='fixed', height=60)\n",
    "bot_row_2 = pn.Row(buildTimelineVis2, sizing_mode='stretch_width')\n",
    "main_processing.append(top_row_1)\n",
    "main_processing.append(top_row_2)\n",
    "main_processing.append(middle_row)\n",
    "main_processing.append(bot_row_1)\n",
    "main_processing.append(bot_row_2)\n"
   ]
  },
  {
   "cell_type": "markdown",
   "id": "898e12aa",
   "metadata": {},
   "source": [
    "## Assembly"
   ]
  },
  {
   "cell_type": "code",
   "execution_count": 25,
   "id": "e99673bc",
   "metadata": {},
   "outputs": [],
   "source": [
    "processing_panel = pn.Row(\n",
    "    sidebar_processing, main_processing, css_classes=[\"page-container\"])\n",
    "#processing_panel = pn.Row(sidebar_processing,css_classes = [\"page-container\"])\n"
   ]
  },
  {
   "cell_type": "markdown",
   "id": "ea1cb790-b0e1-4829-a340-5ecfe42c6879",
   "metadata": {},
   "source": [
    "# Insights Panel"
   ]
  },
  {
   "cell_type": "code",
   "execution_count": 26,
   "id": "3b2b7a0f",
   "metadata": {},
   "outputs": [
    {
     "name": "stderr",
     "output_type": "stream",
     "text": [
      "WARNING:param.Select Window: Setting non-parameter attribute instantiate=True using a mechanism intended only for parameters\n",
      "WARNING:param.Select Window: Setting non-parameter attribute per_instance=True using a mechanism intended only for parameters\n"
     ]
    }
   ],
   "source": [
    "from components.insights.shared import InsightsWindowSelector, InsightsTab, InsightsFileSelector\n"
   ]
  },
  {
   "cell_type": "code",
   "execution_count": 27,
   "id": "dcebcc13",
   "metadata": {},
   "outputs": [],
   "source": [
    "from components.insights.timeDomainVis import InsightsTimeDomainTab, InsightsTimeDomainStats, InsightsTimeDomainVis\n",
    "\n",
    "\n",
    "def render_insights_windowSelector():\n",
    "    # a time scale data selector\n",
    "    # TODO bind wether this is greyed out to value of inisigths file selector\n",
    "    return pn.widgets.IntRangeSlider(name=\"Input Window\", start=0, end=100, value=(0, 100), step=1)\n",
    "\n",
    "\n",
    "def render_insights_frequency_domain_vis():\n",
    "    return\n",
    "\n",
    "\n",
    "def render_insights_frequency_domain_side():\n",
    "    return\n",
    "\n",
    "\n",
    "def render_insights_frequency_domain():\n",
    "    return pn.Row(render_insights_frequency_domain_side, render_insights_frequency_domain_vis)\n",
    "\n",
    "\n",
    "def render_insights_nonlinear_domain_vis():\n",
    "    return\n",
    "\n",
    "\n",
    "def render_insights_nonlinear_domain_side():\n",
    "    return\n",
    "\n",
    "\n",
    "def render_insights_nonlinear_domain():\n",
    "    return pn.Row(render_insights_nonlinear_domain_side, render_insights_nonlinear_domain_vis)\n",
    "\n",
    "\n",
    "def render_insights_timevar_domain_vis():\n",
    "    return\n",
    "\n",
    "\n",
    "def render_insights_timevar_domain_side():\n",
    "    return\n",
    "\n",
    "\n",
    "def render_insights_timevar_domain():\n",
    "    return pn.Row(render_insights_timevar_domain_side, render_insights_timevar_domain_vis)\n",
    "\n",
    "\n",
    "def render_insights_panel_elem():\n",
    "    # Row 1\n",
    "    fileSelector = InsightsFileSelector(main_ecg_history)\n",
    "    windowSelector = InsightsWindowSelector(fileSelector, main_ecg_history)\n",
    "\n",
    "    timeDomainButton = pn.widgets.Button(\n",
    "        name=\"Time-Domain\", button_type=\"primary\", width=120)\n",
    "    timeDom = InsightsTimeDomainTab(fileSelectorRef=fileSelector,\n",
    "                                    windowSelectorRef=windowSelector,\n",
    "                                    data_history=main_ecg_history)\n",
    "    freqDomainButton = pn.widgets.Button(\n",
    "        name=\"Frequency-Domain\", button_type=\"default\", width=120)\n",
    "    nonlinDomainButton = pn.widgets.Button(\n",
    "        name=\"Nonlinear-Domain\", button_type=\"default\", width=120)\n",
    "    timeVarDomainButton = pn.widgets.Button(\n",
    "        name=\"Time-Varying-Domain\", button_type=\"default\", width=120)\n",
    "    buttonList = [timeDomainButton, freqDomainButton,\n",
    "                  nonlinDomainButton, timeVarDomainButton]\n",
    "    selectorList = [fileSelector.getRender, windowSelector.getRender]\n",
    "\n",
    "    def restoreButtonStates():\n",
    "        for button in buttonList:\n",
    "            button.button_type = \"default\"\n",
    "\n",
    "    \n",
    "    top_row = pn.FlexBox(pn.Row(*buttonList), pn.Row(*selectorList), css_classes=[\"top-row\"], justify_content=\"space-between\", flex_wrap=\"nowrap\")\n",
    "    main_row = pn.Row(timeDom.getRender)\n",
    "    # register switches on button press\n",
    "\n",
    "    def switchToTimeDomain(event):\n",
    "        restoreButtonStates()\n",
    "        timeDomainButton.button_type = \"primary\"\n",
    "        main_row[0].loading = True\n",
    "        main_row[0] = timeDom.getRender\n",
    "        main_row[0].loading = False\n",
    "\n",
    "    def switchToFreqDomain(event):\n",
    "        restoreButtonStates()\n",
    "        freqDomainButton.button_type = \"primary\"\n",
    "        main_row[0].loading = True\n",
    "        main_row[0] = render_insights_frequency_domain\n",
    "        main_row[0].loading = False\n",
    "\n",
    "    def switchToNonLinDomain(event):\n",
    "        restoreButtonStates()\n",
    "        nonlinDomainButton.button_type = \"primary\"\n",
    "        main_row[0].loading = True\n",
    "        main_row[0] = render_insights_nonlinear_domain\n",
    "        main_row[0].loading = False\n",
    "\n",
    "    def switchToTimeVarDomain(event):\n",
    "        restoreButtonStates()\n",
    "        timeVarDomainButton.button_type = \"primary\"\n",
    "        main_row[0].loading = True\n",
    "        main_row[0] = render_insights_timevar_domain\n",
    "        main_row[0].loading = False\n",
    "    # register clicks\n",
    "    timeDomainButton.on_click(switchToTimeDomain)\n",
    "    freqDomainButton.on_click(switchToFreqDomain)\n",
    "    nonlinDomainButton.on_click(switchToNonLinDomain)\n",
    "    timeVarDomainButton.on_click(switchToTimeVarDomain)\n",
    "\n",
    "    # render the window selector param, so it has a value_throttled property\n",
    "    res = pn.Column(top_row, main_row)\n",
    "    # file selector\n",
    "    # domain Selector\n",
    "    # Row 2\n",
    "    # Stats\n",
    "    # Visualisation\n",
    "    return res\n"
   ]
  },
  {
   "cell_type": "markdown",
   "id": "231205d7",
   "metadata": {},
   "source": [
    "### Assembly"
   ]
  },
  {
   "cell_type": "code",
   "execution_count": 28,
   "id": "a88947fe",
   "metadata": {},
   "outputs": [
    {
     "name": "stderr",
     "output_type": "stream",
     "text": [
      "WARNING:param.Select Window: Setting non-parameter attribute instantiate=True using a mechanism intended only for parameters\n",
      "WARNING:param.Select Window: Setting non-parameter attribute per_instance=True using a mechanism intended only for parameters\n",
      "WARNING:param.Select Window: Setting non-parameter attribute instantiate=True using a mechanism intended only for parameters\n",
      "WARNING:param.Select Window: Setting non-parameter attribute per_instance=True using a mechanism intended only for parameters\n"
     ]
    },
    {
     "name": "stdout",
     "output_type": "stream",
     "text": [
      "called updatedWindowBounds\n",
      "called updatedWindowBounds\n",
      "called updatedWindowBounds\n",
      "called updatedWindowBounds\n"
     ]
    }
   ],
   "source": [
    "insights_panel = pn.Column(render_insights_panel_elem(\n",
    "), render_insights_panel_elem(), css_classes=[\"page-container\"])\n",
    "#insights_panel\n"
   ]
  },
  {
   "cell_type": "markdown",
   "id": "d0986ceb-45fb-4062-83ed-49602fc1a971",
   "metadata": {},
   "source": [
    "# ML Panel"
   ]
  },
  {
   "cell_type": "markdown",
   "id": "fa606aa3",
   "metadata": {},
   "source": [
    "## Top Nav"
   ]
  },
  {
   "cell_type": "markdown",
   "id": "de84299d",
   "metadata": {},
   "source": [
    "### Input Selector"
   ]
  },
  {
   "cell_type": "code",
   "execution_count": 29,
   "id": "6c6cc7d3",
   "metadata": {},
   "outputs": [
    {
     "name": "stderr",
     "output_type": "stream",
     "text": [
      "WARNING:param.Select00410: Setting non-parameter attribute default=None using a mechanism intended only for parameters\n"
     ]
    }
   ],
   "source": [
    "# now the buttons to select the correct timescale data\n",
    "time_scale_input_selector_ml_object = ECGHistorySelector(main_ecg_history, label = \"Select Input\")\n",
    "time_scale_input_selector_ml = time_scale_input_selector_ml_object.render()\n",
    "\n"
   ]
  },
  {
   "cell_type": "code",
   "execution_count": null,
   "id": "9b37cf7e",
   "metadata": {},
   "outputs": [],
   "source": []
  },
  {
   "cell_type": "code",
   "execution_count": 30,
   "id": "651f2b59",
   "metadata": {},
   "outputs": [],
   "source": [
    "# Single transformation File Selector\n",
    "class SingleTransformationScriptSelectorParam(param.Parameterized):\n",
    "    relPath = './MLTransformation/*'\n",
    "    # combine to total path \n",
    "    path = os.path.join(absPath, relPath)    \n",
    "    value = param.FileSelector(path=path, precedence=0.5, label=\"Select Transformation Script\")\n",
    "\n",
    "\n",
    "\n",
    "ml_transformation_param = SingleTransformationScriptSelectorParam()\n",
    "ml_transformation_select = pn.Param(ml_transformation_param.param[\"value\"], widgets={\n",
    "                       'Select Filename': pn.widgets.Select}, show_name=False)\n",
    "\n",
    "\n",
    "def getFunctionName(value):\n",
    "    return value.split(\"/\")[-1].split(\".\")[0] if value != None else None\n",
    "\n",
    "\n"
   ]
  },
  {
   "cell_type": "code",
   "execution_count": 31,
   "id": "63c549f6",
   "metadata": {},
   "outputs": [],
   "source": [
    "getFunctionName(ml_transformation_param.value)"
   ]
  },
  {
   "cell_type": "markdown",
   "id": "194765b6",
   "metadata": {},
   "source": [
    "### Model Selector + Run"
   ]
  },
  {
   "cell_type": "code",
   "execution_count": 32,
   "id": "64ac933c",
   "metadata": {},
   "outputs": [
    {
     "data": {
      "text/plain": [
       "Watcher(inst=Button(button_type='primary', name='Evaluate with Model'), cls=<class 'panel.widgets.button.Button'>, fn=<function evaluateModel at 0x7f38bfb37640>, mode='args', onlychanged=False, parameter_names=('clicks',), what='value', queued=False, precedence=0)"
      ]
     },
     "execution_count": 32,
     "metadata": {},
     "output_type": "execute_result"
    }
   ],
   "source": [
    "# model eval type -> TODO this should be a dropdown\n",
    "import torch\n",
    "model_eval_type = \"torch\"\n",
    "\n",
    "\n",
    "class SingleModelFileSelectorParam(param.Parameterized):\n",
    "    relPath = './Models/*'\n",
    "    # combine to total path \n",
    "    path = os.path.join(absPath, relPath)        \n",
    "    value = param.FileSelector(path=path, precedence=0.5, default=None)\n",
    "    \n",
    "\n",
    "\n",
    "file_param = SingleModelFileSelectorParam()\n",
    "file_select_ml = pn.Param(file_param.param[\"value\"], widgets={\n",
    "                          'Select Filename': pn.widgets.Select}, show_name=False)\n",
    "\n",
    "buttonEvalML = pn.widgets.Button(\n",
    "    name='Evaluate with Model', button_type='primary')\n",
    "\n",
    "transformationBasePath = './MLTransformation/*.py'\n",
    "transformationModuleBasePath = \"MLTransformation.\"\n",
    "transformationObj = None\n",
    "\n",
    "def evaluateModel(event):\n",
    "    try:\n",
    "        # get data from input selector\n",
    "        print(\"evaluateModelNew\")\n",
    "        history_id = time_scale_input_selector_ml.value\n",
    "        print(\"history_id: \" + history_id)\n",
    "        if history_id == None:\n",
    "            print(\"Error: history_id is None\")\n",
    "            return\n",
    "        data = main_ecg_history.getHistoryFromID(\n",
    "            history_id)   \n",
    "        print(\"data: \")   \n",
    "        data = data.data\n",
    "        print(\"data_len: \" + str(len(data)))\n",
    "        print(getFunctionName(ml_transformation_param.value))\n",
    "        prediction = None\n",
    "        print(\"hey\")\n",
    "        \n",
    "        print(ml_transformation_param.value)\n",
    "        transformationName = None\n",
    "        if ml_transformation_param.value!=None:\n",
    "            transformationName = getFunctionName(ml_transformation_param.value)\n",
    "        if transformationName!=None:\n",
    "            \n",
    "            print(\"transformationName: \" + transformationName)\n",
    "            transformationModulePath = transformationModuleBasePath + transformationName\n",
    "            print(\"transformationModulePath: \" + transformationModulePath)\n",
    "            transformationClass = importName(transformationModulePath, transformationName)\n",
    "            if  transformationClass is None:            \n",
    "                print(\"Error importing  transformation class: \" +  transformationName)\n",
    "\n",
    "            global transformationObj\n",
    "            transformationObj = transformationClass()\n",
    "        \n",
    "            prediction = transformationObj.run(data,str(file_param.value))\n",
    "            prediction_dict = {transformationName +\"_\"+str(getFunctionName(file_param.value)): prediction}\n",
    "            print(\"prediction_dict: \" + str(prediction_dict))\n",
    "            # add prediction to history\n",
    "            res = main_ecg_history.addNewToExisting(history_id, data= None, features=None,runs=prediction_dict )\n",
    "            print(res.mlRuns.keys())\n",
    "            main_ecg_history.param.trigger('history')\n",
    "            main_ecg_history.param.trigger('current')\n",
    "            \n",
    "            buttonEvalML.name = \"Model Evaluation: \" + str(res.getID())\n",
    "    except:\n",
    "        buttonEvalML.name = \"Error Running Model Evaluation\"\n",
    "        print(\"Error running model evaluation\")\n",
    "    \n",
    "\n",
    "buttonEvalML.on_click(evaluateModel)\n"
   ]
  },
  {
   "cell_type": "code",
   "execution_count": null,
   "id": "83476702",
   "metadata": {},
   "outputs": [],
   "source": []
  },
  {
   "cell_type": "markdown",
   "id": "681f7170",
   "metadata": {},
   "source": [
    "## Main Content"
   ]
  },
  {
   "cell_type": "code",
   "execution_count": 33,
   "id": "08dfc56b",
   "metadata": {},
   "outputs": [
    {
     "name": "stderr",
     "output_type": "stream",
     "text": [
      "WARNING:param.Select00434: Setting non-parameter attribute default=None using a mechanism intended only for parameters\n",
      "WARNING:param.Select00436: Setting non-parameter attribute default=None using a mechanism intended only for parameters\n",
      "WARNING:param.Select00438: Setting non-parameter attribute default=None using a mechanism intended only for parameters\n",
      "WARNING:param.Select00440: Setting non-parameter attribute default=None using a mechanism intended only for parameters\n"
     ]
    }
   ],
   "source": [
    "eval_window_selector = pn.widgets.EditableRangeSlider(name='Evaluation Window', start=0, end=100, value=(\n",
    "    0, 100), step=1, format=\"0[.]00\", sizing_mode='stretch_width')\n",
    "\n",
    "eval_file_selector_1 = ECGHistorySelector(main_ecg_history, label = \"Select Evaluation File\").render()\n",
    "eval_run_selector_1 = ECGRunSelector(main_ecg_history, label = \"Select Evaluation Run\", hook = eval_file_selector_1).render()\n",
    "eval_file_selector_2= ECGHistorySelector(main_ecg_history, label = \"Select Evaluation File\").render()\n",
    "eval_run_selector_2 = ECGRunSelector(main_ecg_history, label = \"Select Evaluation Run\", hook = eval_file_selector_2).render()\n",
    "\n",
    "\n",
    "@pn.depends(eval_file_selector_1, watch=True)\n",
    "def updateProcessingWindowSelectorML(time_scale_selector=time_scale_input_selector_ml):\n",
    "    print(\"updating window selector view\")\n",
    "    # get current timescale data\n",
    "    time_scale_data = main_ecg_history.getHistoryFromID(\n",
    "        time_scale_selector).data\n",
    "\n",
    "    # get count of datapoints\n",
    "    data_count = len(time_scale_data)\n",
    "    # get sampling rate #TODO \n",
    "    rate = 1\n",
    "    # set start and end to 0 and count/sampling rate\n",
    "    eval_window_selector.start = 0\n",
    "    eval_window_selector.end = data_count/rate\n",
    "    v1, v2 = eval_window_selector.value\n",
    "    \n",
    "    eval_window_selector.value = (max(v1, 0), min(v2, data_count/rate))\n"
   ]
  },
  {
   "cell_type": "markdown",
   "id": "13b77fc4",
   "metadata": {},
   "source": [
    "### Model 1\n"
   ]
  },
  {
   "cell_type": "markdown",
   "id": "cece84fe",
   "metadata": {},
   "source": [
    "#### Timeline Vis"
   ]
  },
  {
   "cell_type": "code",
   "execution_count": 34,
   "id": "bfc49be7",
   "metadata": {},
   "outputs": [],
   "source": [
    "\n",
    "def buildEvalTimelineVis(time_scale_selector=time_scale_input_selector_ml, run=eval_run_selector_1, timeline_window=eval_window_selector):\n",
    "    # return a bokeh Pane of a plot using both the data and the run information\n",
    "    \n",
    "    #get data\n",
    "    data_stream = main_ecg_history.getHistoryFromID(time_scale_selector)\n",
    "    \n",
    "    #define frequency and timestamps\n",
    "    req = 1    \n",
    "    if 'sFreq' in data_stream.features:\n",
    "        freq = data_stream.features['sFreq']\n",
    "    time_stamps = np.arange(0, int(len(data_stream.data)/1))\n",
    "    \n",
    "    #access timeline window\n",
    "    timeline= [0,1]\n",
    "    if timeline_window is None:\n",
    "        # then take the entire data stream\n",
    "        timeline = [0, len(data_stream.data)]\n",
    "    else:\n",
    "        timeline = timeline_window\n",
    "        \n",
    "    # create og data source dict\n",
    "    figureDataSourceDict = dict(\n",
    "        time_stamps=time_stamps, ECG=data_stream.data)\n",
    "    \n",
    "    # check if truth is in mlRuns\n",
    "    if 'truth' in data_stream.mlRuns:\n",
    "        figureDataSourceDict['truth'] = data_stream.mlRuns['truth']\n",
    "    if run is not None:\n",
    "        # check if run is in mlRuns\n",
    "        if run in data_stream.mlRuns:\n",
    "            figureDataSourceDict[\"run\"] = data_stream.mlRuns[run]\n",
    "            \n",
    "    # define dictionary based on data\n",
    "    cds = ColumnDataSource(data=figureDataSourceDict)\n",
    "    # define tools \n",
    "    tools = 'tap,box_zoom,pan'\n",
    "    # define figure\n",
    "    p = figure(plot_width=800, plot_height=400, tools=tools, title=\"ML Evaluation\", x_axis_label='Time (s)', x_range=(timeline[0], timeline[1]))\n",
    "    # add line for ECG\n",
    "    p.line(x='time_stamps', y='ECG', source=cds, line_width=2, line_alpha=0.8, color='blue')\n",
    "    # add scatter for truth\n",
    "    p.scatter(x='time_stamps', y='truth', source=cds, color='green')\n",
    "    # add scatter for run\n",
    "    p.scatter(x='time_stamps', y='run', source=cds, color='red')\n",
    "    \n",
    "    bk_pane = pn.pane.Bokeh(p,\n",
    "                            sizing_mode='stretch_width')\n",
    "    return bk_pane\n",
    "    \n"
   ]
  },
  {
   "cell_type": "markdown",
   "id": "6d1e4752",
   "metadata": {},
   "source": [
    "#### Stats"
   ]
  },
  {
   "cell_type": "code",
   "execution_count": null,
   "id": "11914b5d",
   "metadata": {},
   "outputs": [],
   "source": [
    "\n"
   ]
  },
  {
   "cell_type": "code",
   "execution_count": 35,
   "id": "b19fb69f",
   "metadata": {},
   "outputs": [],
   "source": [
    "from sklearn.metrics import confusion_matrix\n",
    "import pandas as pd\n",
    "def mlEvalVisStats(sel_file=eval_file_selector_1, sel_run=eval_run_selector_1, sel_window=eval_window_selector):\n",
    "    try:\n",
    "        # check if file exists\n",
    "        \n",
    "        if sel_file is None  or sel_run is None or sel_window is None:\n",
    "            print(sel_file is None, sel_run is None, sel_window is None)\n",
    "            return pn.pane.Markdown(\"Stats unavailable,Please select a file, run and window\", style={'font-family': \"serif\"})\n",
    "        \n",
    "        data_obj = main_ecg_history.getHistoryFromID(sel_file)\n",
    "        \n",
    "        if (sel_run not in data_obj.mlRuns or \"truth\" not in data_obj.mlRuns.keys()):\n",
    "            return pn.pane.Markdown(\"Ground Truth or Prediction Unavailable\", style={'font-family': \"serif\"})\n",
    "        \n",
    "        start = max(0, sel_window[0])\n",
    "        end = min(len(data_obj.data), sel_window[1])\n",
    "        y_true = data_obj.mlRuns[\"truth\"][start:end]\n",
    "        y_pred = data_obj.mlRuns[sel_run][start:end]\n",
    "        \n",
    "        conf = pd.DataFrame(confusion_matrix(y_true, y_pred))\n",
    "        # calculate accurcy from confusion matrix \n",
    "        accuracy = (conf.iloc[0,0] + conf.iloc[1,1]) / conf.sum().sum()\n",
    "\n",
    "        confusion = conf\n",
    "        confusion_matrix_rep = pn.widgets.DataFrame(\n",
    "            confusion, autosize_mode='fit_columns', width=300)\n",
    "        accuracy_rep = pn.pane.Markdown(\n",
    "            'Accuracy:' + str(accuracy), style={'font-family': \"serif\"})\n",
    "        return pn.Card(accuracy_rep, confusion_matrix_rep, title=\"Stats\")   \n",
    "    except:\n",
    "        return pn.pane.Markdown(\"Error while rendering Stats\", style={'font-family': \"serif\"})\n",
    "\n",
    "\n",
    "@pn.depends(eval_file_selector_1,eval_run_selector_1, eval_window_selector)\n",
    "def buildEvalVis1(file_selector=time_scale_input_selector_1, run_selector = eval_run_selector_1, timeline_window=eval_window_selector):\n",
    "    \n",
    "    try:\n",
    "        res = pn.Row(mlEvalVisStats(file_selector,run_selector, timeline_window), \n",
    "                     buildEvalTimelineVis(file_selector, run_selector, timeline_window))\n",
    "        return res\n",
    "    except Exception as e:\n",
    "        print(e)\n",
    "        res = pn.pane.Markdown(\"No Visualization available. Error while rendering\")\n",
    "    return res if res is not None else pn.pane.Markdown(\"No data available\")\n",
    "\n",
    "\n",
    "@pn.depends(eval_file_selector_2,eval_run_selector_2, eval_window_selector)\n",
    "def buildEvalVis2(file_selector=time_scale_input_selector_1, run_selector = eval_run_selector_1, timeline_window=eval_window_selector):\n",
    "    try:\n",
    "        res = pn.Row(mlEvalVisStats(file_selector,run_selector, timeline_window), \n",
    "                     buildEvalTimelineVis(file_selector, run_selector, timeline_window))\n",
    "        return res\n",
    "    except Exception as e:\n",
    "        print(e)\n",
    "        res = pn.pane.Markdown(\"No Visualization available. Error while rendering\")\n",
    "    return res if res is not None else pn.pane.Markdown(\"No data available\")\n",
    "\n",
    "\n",
    "\n"
   ]
  },
  {
   "cell_type": "markdown",
   "id": "9f09cfd4",
   "metadata": {},
   "source": [
    "### Model 2"
   ]
  },
  {
   "cell_type": "markdown",
   "id": "546362b2",
   "metadata": {},
   "source": [
    "### Assembly"
   ]
  },
  {
   "cell_type": "code",
   "execution_count": 36,
   "id": "0921542a",
   "metadata": {},
   "outputs": [],
   "source": [
    "ml_row1 = pn.Row(time_scale_input_selector_ml,ml_transformation_select, file_select_ml,\n",
    "                 buttonEvalML, sizing_mode='stretch_width')\n",
    "ml_row1_5 = pn.Row(eval_file_selector_1,eval_run_selector_1, sizing_mode='stretch_width')\n",
    "ml_row2 = buildEvalVis1\n",
    "ml_row3 = pn.Row(eval_window_selector, sizing_mode='stretch_width')\n",
    "ml_row3_5 = pn.Row(eval_file_selector_2,eval_run_selector_2, sizing_mode='stretch_width')\n",
    "ml_row4 = buildEvalVis2\n",
    "\n",
    "ml_panel = pn.Column(ml_row1,ml_row1_5, ml_row2, ml_row3,ml_row3_5, ml_row4,\n",
    "                     css_classes=[\"page-container\", \"main-content\"])\n"
   ]
  },
  {
   "cell_type": "markdown",
   "id": "550c2908",
   "metadata": {},
   "source": [
    "# Data Panel"
   ]
  },
  {
   "cell_type": "code",
   "execution_count": 37,
   "id": "50eb6811",
   "metadata": {},
   "outputs": [
    {
     "data": {
      "application/vnd.jupyter.widget-view+json": {
       "model_id": "6e49898233fb4b058626b7dd611fd2cf",
       "version_major": 2,
       "version_minor": 0
      },
      "text/plain": [
       "BokehModel(combine_events=True, render_bundle={'docs_json': {'e062bd3f-ac0d-4efb-b2f1-0a8f87965f93': {'defs': …"
      ]
     },
     "execution_count": 37,
     "metadata": {},
     "output_type": "execute_result"
    }
   ],
   "source": [
    "# Data Selector\n",
    "# TODO need dummy model to test this and perhaps remove the time series restriction\n",
    "data_selector = pn.widgets.Select(name='Select Active Input', options=[x.getID(\n",
    ") for x in main_ecg_history.history], value=main_ecg_history.current.getID())\n",
    "\n",
    "# Data Selector Watcher\n",
    "\n",
    "\n",
    "def updateOption(*events):\n",
    "    data_selector.options = [x.getID() for x in main_ecg_history.history]\n",
    "# Data Active Watcher\n",
    "\n",
    "\n",
    "def updateActiveData(*events):\n",
    "    data_selector.value = main_ecg_history.current.getID()\n",
    "\n",
    "\n",
    "def updateActiveSelectedData(*events):\n",
    "    print(\"updating active data\")\n",
    "    main_ecg_history.current = main_ecg_history.getHistoryFromID(\n",
    "        data_selector.value)\n",
    "\n",
    "\n",
    "dataUpdateWatcher = data_selector.param.watch(\n",
    "    updateActiveSelectedData, \"value\", onlychanged=False)\n",
    "dataOptionUpdateWatcher = main_ecg_history.param.watch(\n",
    "    updateOption, \"history\", onlychanged=False)\n",
    "dataOptionUpdateWatcher = main_ecg_history.param.watch(\n",
    "    updateActiveData, \"history\", onlychanged=False)\n",
    "\n",
    "data_selector\n"
   ]
  },
  {
   "cell_type": "code",
   "execution_count": 38,
   "id": "416cf6b1",
   "metadata": {},
   "outputs": [],
   "source": [
    "# Data Inspector and rename\n",
    "# TODO get back here when data Structure is redone\n",
    "@pn.depends(data_selector)\n",
    "def showCurrentData(*events):\n",
    "    print(\"selected data has changed\")\n",
    "    return pn.Param(main_ecg_history.current.param, widgets={\n",
    "        'data': {'widget_type': pn.widgets.ArrayInput, 'disabled': True},\n",
    "        'name': {'widget_type': pn.widgets.TextInput},\n",
    "\n",
    "\n",
    "    }, parameters=['data', 'name', \"features\"], name=\"Data Inspector\", sizing_mode='stretch_width', expand=True)\n"
   ]
  },
  {
   "cell_type": "code",
   "execution_count": null,
   "id": "1b590958",
   "metadata": {},
   "outputs": [],
   "source": []
  },
  {
   "cell_type": "code",
   "execution_count": 39,
   "id": "7597233c",
   "metadata": {},
   "outputs": [
    {
     "data": {
      "application/vnd.jupyter.widget-view+json": {
       "model_id": "54ba4175388e4a16a1884e3b7ce05e93",
       "version_major": 2,
       "version_minor": 0
      },
      "text/plain": [
       "BokehModel(combine_events=True, render_bundle={'docs_json': {'7822dca4-b53a-4657-b737-ab945414b569': {'defs': …"
      ]
     },
     "execution_count": 39,
     "metadata": {},
     "output_type": "execute_result"
    }
   ],
   "source": [
    "# Data Saver and Importer\n",
    "dataPath = \"./DataArtifacts/\"\n",
    "saveDataButton = pn.widgets.Button(name='Save Data', button_type='primary')\n",
    "loadDataButton = pn.widgets.Button(name='Load Data', button_type='primary')\n",
    "loadDataInput = pn.widgets.FileInput(accept='.pkl', multiple=False)\n",
    "saveData = None\n",
    "\n",
    "\n",
    "def saveData(*events):\n",
    "    data_obj = main_ecg_history.current\n",
    "    name = data_obj.getID()\n",
    "    # pickle the data\n",
    "    with open(dataPath + name + '.pkl', 'wb') as f:\n",
    "        pickle.dump(main_ecg_history.current.getSaveDict(), f)\n",
    "\n",
    "    global savedData \n",
    "    savedData= main_ecg_history.current.getSaveDict()\n",
    "    %store savedData\n",
    "    saveDataButton.name = \"Data Saved\"\n",
    "\n",
    "\n",
    "def loadData(*events):\n",
    "    try:\n",
    "        # get the file name\n",
    "        filename = loadDataInput.filename    \n",
    "        \n",
    "        if filename is None:\n",
    "            loadDataButton.name = \"Error: Set Filename\"\n",
    "        \n",
    "        # load the data\n",
    "        with open(dataPath + filename, 'rb') as f:\n",
    "            data = pickle.load(f)\n",
    "            main_ecg_history.addNewFromDict(data)\n",
    "        # add the data to the history\n",
    "\n",
    "        loadDataButton.name = \"Data Loaded\"\n",
    "    except:\n",
    "        loadDataButton.name = \"Error: make sure to load from DataArtifacts folder\"\n",
    "        \n",
    "\n",
    "\n",
    "saveDataButton.on_click(saveData)\n",
    "loadDataButton.on_click(loadData)\n",
    "\n",
    "dataLoaderArea = pn.Row(saveDataButton, loadDataButton, loadDataInput)\n",
    "dataLoaderArea\n"
   ]
  },
  {
   "cell_type": "markdown",
   "id": "bbf34320",
   "metadata": {},
   "source": [
    "## Assembly"
   ]
  },
  {
   "cell_type": "code",
   "execution_count": 40,
   "id": "57aeb67e",
   "metadata": {},
   "outputs": [
    {
     "name": "stdout",
     "output_type": "stream",
     "text": [
      "selected data has changed\n"
     ]
    },
    {
     "data": {
      "application/vnd.jupyter.widget-view+json": {
       "model_id": "dfa56b376ca54cc69d16a183bb83c0cd",
       "version_major": 2,
       "version_minor": 0
      },
      "text/plain": [
       "BokehModel(combine_events=True, render_bundle={'docs_json': {'f353188f-297a-4337-a69e-5900bfa1ecd1': {'defs': …"
      ]
     },
     "execution_count": 40,
     "metadata": {},
     "output_type": "execute_result"
    }
   ],
   "source": [
    "from panel.interact import interact\n",
    "data_panel = pn.Column(data_selector, showCurrentData, dataLoaderArea, css_classes=[\n",
    "                       \"page-container\", \"main-content\"])\n",
    "\n",
    "\n",
    "def updateMainHistory(*events):\n",
    "    \"\"\"This function is used to update the main history when the data inside is changed, by emitting a trigger event on the history, when an element is changed\n",
    "    \"\"\"\n",
    "    main_ecg_history.history = main_ecg_history.history\n",
    "    main_ecg_history.param.trigger(\"history\")\n",
    "    print(\"updating main history\" + str(main_ecg_history.current.getID()))\n",
    "\n",
    "\n",
    "main_ecg_history.current.param.watch(\n",
    "    updateMainHistory, [\"name\", \"features\", 'data'], onlychanged=False)\n",
    "data_panel\n"
   ]
  },
  {
   "cell_type": "markdown",
   "id": "b5e7d9bd",
   "metadata": {},
   "source": [
    "# Console Panel "
   ]
  },
  {
   "cell_type": "code",
   "execution_count": 41,
   "id": "784557d9",
   "metadata": {},
   "outputs": [],
   "source": [
    "console_terminal = pn.widgets.Terminal(\n",
    "    options={\"cursorBlink\": True}, height=500, width=500, sizing_mode='stretch_width')\n",
    "sys.stdout = console_terminal\n",
    "print(\"Welcome to the ECG Console\")\n",
    "# console_terminal\n"
   ]
  },
  {
   "cell_type": "markdown",
   "id": "2a178447",
   "metadata": {},
   "source": [
    "## Assembly\n"
   ]
  },
  {
   "cell_type": "code",
   "execution_count": 42,
   "id": "7128bc2a",
   "metadata": {},
   "outputs": [],
   "source": [
    "console_panel = pn.Column(console_terminal, css_classes=[\n",
    "                          \"page-container\", \"main-content\"])\n"
   ]
  },
  {
   "cell_type": "markdown",
   "id": "a1d9ce8c-f61f-4c95-aac2-4dd1731b1e66",
   "metadata": {},
   "source": [
    "# Orchestration"
   ]
  },
  {
   "cell_type": "code",
   "execution_count": null,
   "id": "b21d7819",
   "metadata": {},
   "outputs": [],
   "source": []
  },
  {
   "cell_type": "markdown",
   "id": "a1b8af7c",
   "metadata": {},
   "source": [
    "## Assembly"
   ]
  },
  {
   "cell_type": "code",
   "execution_count": 43,
   "id": "0d4f00a5",
   "metadata": {},
   "outputs": [
    {
     "data": {
      "application/vnd.jupyter.widget-view+json": {
       "model_id": "512c8ef4665d4fed83dc60508bfd4171",
       "version_major": 2,
       "version_minor": 0
      },
      "text/plain": [
       "BokehModel(combine_events=True, render_bundle={'docs_json': {'f5c36286-bbdb-483f-acd1-8b57fe471363': {'defs': …"
      ]
     },
     "execution_count": 43,
     "metadata": {},
     "output_type": "execute_result"
    },
    {
     "ename": "AttributeError",
     "evalue": "'NoneType' object has no attribute 'lookup'",
     "output_type": "error",
     "traceback": [
      "\u001b[0;31m---------------------------------------------------------------------------\u001b[0m",
      "\u001b[0;31mAttributeError\u001b[0m                            Traceback (most recent call last)",
      "File \u001b[0;32m~/Documents/Projects/HRVInvestigator2/conda_env2/lib/python3.10/site-packages/jupyter_bokeh/widgets.py:128\u001b[0m, in \u001b[0;36mBokehModel._sync_model\u001b[0;34m(self, _, content, _buffers)\u001b[0m\n\u001b[1;32m    126\u001b[0m new, old, attr \u001b[39m=\u001b[39m content[\u001b[39m\"\u001b[39m\u001b[39mnew\u001b[39m\u001b[39m\"\u001b[39m], content[\u001b[39m\"\u001b[39m\u001b[39mold\u001b[39m\u001b[39m\"\u001b[39m], content[\u001b[39m\"\u001b[39m\u001b[39mattr\u001b[39m\u001b[39m\"\u001b[39m]\n\u001b[1;32m    127\u001b[0m submodel \u001b[39m=\u001b[39m \u001b[39mself\u001b[39m\u001b[39m.\u001b[39m_model\u001b[39m.\u001b[39mselect_one({\u001b[39m\"\u001b[39m\u001b[39mid\u001b[39m\u001b[39m\"\u001b[39m: content[\u001b[39m\"\u001b[39m\u001b[39mid\u001b[39m\u001b[39m\"\u001b[39m]})\n\u001b[0;32m--> 128\u001b[0m descriptor \u001b[39m=\u001b[39m submodel\u001b[39m.\u001b[39;49mlookup(content[\u001b[39m'\u001b[39m\u001b[39mattr\u001b[39m\u001b[39m'\u001b[39m])\n\u001b[1;32m    129\u001b[0m \u001b[39mtry\u001b[39;00m:\n\u001b[1;32m    130\u001b[0m     descriptor\u001b[39m.\u001b[39m_set(submodel, old, new, hint\u001b[39m=\u001b[39mhint, setter\u001b[39m=\u001b[39m\u001b[39mself\u001b[39m)\n",
      "\u001b[0;31mAttributeError\u001b[0m: 'NoneType' object has no attribute 'lookup'"
     ]
    },
    {
     "ename": "AttributeError",
     "evalue": "'NoneType' object has no attribute 'lookup'",
     "output_type": "error",
     "traceback": [
      "\u001b[0;31m---------------------------------------------------------------------------\u001b[0m",
      "\u001b[0;31mAttributeError\u001b[0m                            Traceback (most recent call last)",
      "File \u001b[0;32m~/Documents/Projects/HRVInvestigator2/conda_env2/lib/python3.10/site-packages/jupyter_bokeh/widgets.py:128\u001b[0m, in \u001b[0;36mBokehModel._sync_model\u001b[0;34m(self, _, content, _buffers)\u001b[0m\n\u001b[1;32m    126\u001b[0m new, old, attr \u001b[39m=\u001b[39m content[\u001b[39m\"\u001b[39m\u001b[39mnew\u001b[39m\u001b[39m\"\u001b[39m], content[\u001b[39m\"\u001b[39m\u001b[39mold\u001b[39m\u001b[39m\"\u001b[39m], content[\u001b[39m\"\u001b[39m\u001b[39mattr\u001b[39m\u001b[39m\"\u001b[39m]\n\u001b[1;32m    127\u001b[0m submodel \u001b[39m=\u001b[39m \u001b[39mself\u001b[39m\u001b[39m.\u001b[39m_model\u001b[39m.\u001b[39mselect_one({\u001b[39m\"\u001b[39m\u001b[39mid\u001b[39m\u001b[39m\"\u001b[39m: content[\u001b[39m\"\u001b[39m\u001b[39mid\u001b[39m\u001b[39m\"\u001b[39m]})\n\u001b[0;32m--> 128\u001b[0m descriptor \u001b[39m=\u001b[39m submodel\u001b[39m.\u001b[39;49mlookup(content[\u001b[39m'\u001b[39m\u001b[39mattr\u001b[39m\u001b[39m'\u001b[39m])\n\u001b[1;32m    129\u001b[0m \u001b[39mtry\u001b[39;00m:\n\u001b[1;32m    130\u001b[0m     descriptor\u001b[39m.\u001b[39m_set(submodel, old, new, hint\u001b[39m=\u001b[39mhint, setter\u001b[39m=\u001b[39m\u001b[39mself\u001b[39m)\n",
      "\u001b[0;31mAttributeError\u001b[0m: 'NoneType' object has no attribute 'lookup'"
     ]
    },
    {
     "ename": "AttributeError",
     "evalue": "'NoneType' object has no attribute 'lookup'",
     "output_type": "error",
     "traceback": [
      "\u001b[0;31m---------------------------------------------------------------------------\u001b[0m",
      "\u001b[0;31mAttributeError\u001b[0m                            Traceback (most recent call last)",
      "File \u001b[0;32m~/Documents/Projects/HRVInvestigator2/conda_env2/lib/python3.10/site-packages/jupyter_bokeh/widgets.py:128\u001b[0m, in \u001b[0;36mBokehModel._sync_model\u001b[0;34m(self, _, content, _buffers)\u001b[0m\n\u001b[1;32m    126\u001b[0m new, old, attr \u001b[39m=\u001b[39m content[\u001b[39m\"\u001b[39m\u001b[39mnew\u001b[39m\u001b[39m\"\u001b[39m], content[\u001b[39m\"\u001b[39m\u001b[39mold\u001b[39m\u001b[39m\"\u001b[39m], content[\u001b[39m\"\u001b[39m\u001b[39mattr\u001b[39m\u001b[39m\"\u001b[39m]\n\u001b[1;32m    127\u001b[0m submodel \u001b[39m=\u001b[39m \u001b[39mself\u001b[39m\u001b[39m.\u001b[39m_model\u001b[39m.\u001b[39mselect_one({\u001b[39m\"\u001b[39m\u001b[39mid\u001b[39m\u001b[39m\"\u001b[39m: content[\u001b[39m\"\u001b[39m\u001b[39mid\u001b[39m\u001b[39m\"\u001b[39m]})\n\u001b[0;32m--> 128\u001b[0m descriptor \u001b[39m=\u001b[39m submodel\u001b[39m.\u001b[39;49mlookup(content[\u001b[39m'\u001b[39m\u001b[39mattr\u001b[39m\u001b[39m'\u001b[39m])\n\u001b[1;32m    129\u001b[0m \u001b[39mtry\u001b[39;00m:\n\u001b[1;32m    130\u001b[0m     descriptor\u001b[39m.\u001b[39m_set(submodel, old, new, hint\u001b[39m=\u001b[39mhint, setter\u001b[39m=\u001b[39m\u001b[39mself\u001b[39m)\n",
      "\u001b[0;31mAttributeError\u001b[0m: 'NoneType' object has no attribute 'lookup'"
     ]
    },
    {
     "ename": "AttributeError",
     "evalue": "'NoneType' object has no attribute 'lookup'",
     "output_type": "error",
     "traceback": [
      "\u001b[0;31m---------------------------------------------------------------------------\u001b[0m",
      "\u001b[0;31mAttributeError\u001b[0m                            Traceback (most recent call last)",
      "File \u001b[0;32m~/Documents/Projects/HRVInvestigator2/conda_env2/lib/python3.10/site-packages/jupyter_bokeh/widgets.py:128\u001b[0m, in \u001b[0;36mBokehModel._sync_model\u001b[0;34m(self, _, content, _buffers)\u001b[0m\n\u001b[1;32m    126\u001b[0m new, old, attr \u001b[39m=\u001b[39m content[\u001b[39m\"\u001b[39m\u001b[39mnew\u001b[39m\u001b[39m\"\u001b[39m], content[\u001b[39m\"\u001b[39m\u001b[39mold\u001b[39m\u001b[39m\"\u001b[39m], content[\u001b[39m\"\u001b[39m\u001b[39mattr\u001b[39m\u001b[39m\"\u001b[39m]\n\u001b[1;32m    127\u001b[0m submodel \u001b[39m=\u001b[39m \u001b[39mself\u001b[39m\u001b[39m.\u001b[39m_model\u001b[39m.\u001b[39mselect_one({\u001b[39m\"\u001b[39m\u001b[39mid\u001b[39m\u001b[39m\"\u001b[39m: content[\u001b[39m\"\u001b[39m\u001b[39mid\u001b[39m\u001b[39m\"\u001b[39m]})\n\u001b[0;32m--> 128\u001b[0m descriptor \u001b[39m=\u001b[39m submodel\u001b[39m.\u001b[39;49mlookup(content[\u001b[39m'\u001b[39m\u001b[39mattr\u001b[39m\u001b[39m'\u001b[39m])\n\u001b[1;32m    129\u001b[0m \u001b[39mtry\u001b[39;00m:\n\u001b[1;32m    130\u001b[0m     descriptor\u001b[39m.\u001b[39m_set(submodel, old, new, hint\u001b[39m=\u001b[39mhint, setter\u001b[39m=\u001b[39m\u001b[39mself\u001b[39m)\n",
      "\u001b[0;31mAttributeError\u001b[0m: 'NoneType' object has no attribute 'lookup'"
     ]
    },
    {
     "ename": "AttributeError",
     "evalue": "'NoneType' object has no attribute 'lookup'",
     "output_type": "error",
     "traceback": [
      "\u001b[0;31m---------------------------------------------------------------------------\u001b[0m",
      "\u001b[0;31mAttributeError\u001b[0m                            Traceback (most recent call last)",
      "File \u001b[0;32m~/Documents/Projects/HRVInvestigator2/conda_env2/lib/python3.10/site-packages/jupyter_bokeh/widgets.py:128\u001b[0m, in \u001b[0;36mBokehModel._sync_model\u001b[0;34m(self, _, content, _buffers)\u001b[0m\n\u001b[1;32m    126\u001b[0m new, old, attr \u001b[39m=\u001b[39m content[\u001b[39m\"\u001b[39m\u001b[39mnew\u001b[39m\u001b[39m\"\u001b[39m], content[\u001b[39m\"\u001b[39m\u001b[39mold\u001b[39m\u001b[39m\"\u001b[39m], content[\u001b[39m\"\u001b[39m\u001b[39mattr\u001b[39m\u001b[39m\"\u001b[39m]\n\u001b[1;32m    127\u001b[0m submodel \u001b[39m=\u001b[39m \u001b[39mself\u001b[39m\u001b[39m.\u001b[39m_model\u001b[39m.\u001b[39mselect_one({\u001b[39m\"\u001b[39m\u001b[39mid\u001b[39m\u001b[39m\"\u001b[39m: content[\u001b[39m\"\u001b[39m\u001b[39mid\u001b[39m\u001b[39m\"\u001b[39m]})\n\u001b[0;32m--> 128\u001b[0m descriptor \u001b[39m=\u001b[39m submodel\u001b[39m.\u001b[39;49mlookup(content[\u001b[39m'\u001b[39m\u001b[39mattr\u001b[39m\u001b[39m'\u001b[39m])\n\u001b[1;32m    129\u001b[0m \u001b[39mtry\u001b[39;00m:\n\u001b[1;32m    130\u001b[0m     descriptor\u001b[39m.\u001b[39m_set(submodel, old, new, hint\u001b[39m=\u001b[39mhint, setter\u001b[39m=\u001b[39m\u001b[39mself\u001b[39m)\n",
      "\u001b[0;31mAttributeError\u001b[0m: 'NoneType' object has no attribute 'lookup'"
     ]
    },
    {
     "ename": "AttributeError",
     "evalue": "'NoneType' object has no attribute 'lookup'",
     "output_type": "error",
     "traceback": [
      "\u001b[0;31m---------------------------------------------------------------------------\u001b[0m",
      "\u001b[0;31mAttributeError\u001b[0m                            Traceback (most recent call last)",
      "File \u001b[0;32m~/Documents/Projects/HRVInvestigator2/conda_env2/lib/python3.10/site-packages/jupyter_bokeh/widgets.py:128\u001b[0m, in \u001b[0;36mBokehModel._sync_model\u001b[0;34m(self, _, content, _buffers)\u001b[0m\n\u001b[1;32m    126\u001b[0m new, old, attr \u001b[39m=\u001b[39m content[\u001b[39m\"\u001b[39m\u001b[39mnew\u001b[39m\u001b[39m\"\u001b[39m], content[\u001b[39m\"\u001b[39m\u001b[39mold\u001b[39m\u001b[39m\"\u001b[39m], content[\u001b[39m\"\u001b[39m\u001b[39mattr\u001b[39m\u001b[39m\"\u001b[39m]\n\u001b[1;32m    127\u001b[0m submodel \u001b[39m=\u001b[39m \u001b[39mself\u001b[39m\u001b[39m.\u001b[39m_model\u001b[39m.\u001b[39mselect_one({\u001b[39m\"\u001b[39m\u001b[39mid\u001b[39m\u001b[39m\"\u001b[39m: content[\u001b[39m\"\u001b[39m\u001b[39mid\u001b[39m\u001b[39m\"\u001b[39m]})\n\u001b[0;32m--> 128\u001b[0m descriptor \u001b[39m=\u001b[39m submodel\u001b[39m.\u001b[39;49mlookup(content[\u001b[39m'\u001b[39m\u001b[39mattr\u001b[39m\u001b[39m'\u001b[39m])\n\u001b[1;32m    129\u001b[0m \u001b[39mtry\u001b[39;00m:\n\u001b[1;32m    130\u001b[0m     descriptor\u001b[39m.\u001b[39m_set(submodel, old, new, hint\u001b[39m=\u001b[39mhint, setter\u001b[39m=\u001b[39m\u001b[39mself\u001b[39m)\n",
      "\u001b[0;31mAttributeError\u001b[0m: 'NoneType' object has no attribute 'lookup'"
     ]
    },
    {
     "ename": "AttributeError",
     "evalue": "'NoneType' object has no attribute 'lookup'",
     "output_type": "error",
     "traceback": [
      "\u001b[0;31m---------------------------------------------------------------------------\u001b[0m",
      "\u001b[0;31mAttributeError\u001b[0m                            Traceback (most recent call last)",
      "File \u001b[0;32m~/Documents/Projects/HRVInvestigator2/conda_env2/lib/python3.10/site-packages/jupyter_bokeh/widgets.py:128\u001b[0m, in \u001b[0;36mBokehModel._sync_model\u001b[0;34m(self, _, content, _buffers)\u001b[0m\n\u001b[1;32m    126\u001b[0m new, old, attr \u001b[39m=\u001b[39m content[\u001b[39m\"\u001b[39m\u001b[39mnew\u001b[39m\u001b[39m\"\u001b[39m], content[\u001b[39m\"\u001b[39m\u001b[39mold\u001b[39m\u001b[39m\"\u001b[39m], content[\u001b[39m\"\u001b[39m\u001b[39mattr\u001b[39m\u001b[39m\"\u001b[39m]\n\u001b[1;32m    127\u001b[0m submodel \u001b[39m=\u001b[39m \u001b[39mself\u001b[39m\u001b[39m.\u001b[39m_model\u001b[39m.\u001b[39mselect_one({\u001b[39m\"\u001b[39m\u001b[39mid\u001b[39m\u001b[39m\"\u001b[39m: content[\u001b[39m\"\u001b[39m\u001b[39mid\u001b[39m\u001b[39m\"\u001b[39m]})\n\u001b[0;32m--> 128\u001b[0m descriptor \u001b[39m=\u001b[39m submodel\u001b[39m.\u001b[39;49mlookup(content[\u001b[39m'\u001b[39m\u001b[39mattr\u001b[39m\u001b[39m'\u001b[39m])\n\u001b[1;32m    129\u001b[0m \u001b[39mtry\u001b[39;00m:\n\u001b[1;32m    130\u001b[0m     descriptor\u001b[39m.\u001b[39m_set(submodel, old, new, hint\u001b[39m=\u001b[39mhint, setter\u001b[39m=\u001b[39m\u001b[39mself\u001b[39m)\n",
      "\u001b[0;31mAttributeError\u001b[0m: 'NoneType' object has no attribute 'lookup'"
     ]
    },
    {
     "ename": "AttributeError",
     "evalue": "'NoneType' object has no attribute 'lookup'",
     "output_type": "error",
     "traceback": [
      "\u001b[0;31m---------------------------------------------------------------------------\u001b[0m",
      "\u001b[0;31mAttributeError\u001b[0m                            Traceback (most recent call last)",
      "File \u001b[0;32m~/Documents/Projects/HRVInvestigator2/conda_env2/lib/python3.10/site-packages/jupyter_bokeh/widgets.py:128\u001b[0m, in \u001b[0;36mBokehModel._sync_model\u001b[0;34m(self, _, content, _buffers)\u001b[0m\n\u001b[1;32m    126\u001b[0m new, old, attr \u001b[39m=\u001b[39m content[\u001b[39m\"\u001b[39m\u001b[39mnew\u001b[39m\u001b[39m\"\u001b[39m], content[\u001b[39m\"\u001b[39m\u001b[39mold\u001b[39m\u001b[39m\"\u001b[39m], content[\u001b[39m\"\u001b[39m\u001b[39mattr\u001b[39m\u001b[39m\"\u001b[39m]\n\u001b[1;32m    127\u001b[0m submodel \u001b[39m=\u001b[39m \u001b[39mself\u001b[39m\u001b[39m.\u001b[39m_model\u001b[39m.\u001b[39mselect_one({\u001b[39m\"\u001b[39m\u001b[39mid\u001b[39m\u001b[39m\"\u001b[39m: content[\u001b[39m\"\u001b[39m\u001b[39mid\u001b[39m\u001b[39m\"\u001b[39m]})\n\u001b[0;32m--> 128\u001b[0m descriptor \u001b[39m=\u001b[39m submodel\u001b[39m.\u001b[39;49mlookup(content[\u001b[39m'\u001b[39m\u001b[39mattr\u001b[39m\u001b[39m'\u001b[39m])\n\u001b[1;32m    129\u001b[0m \u001b[39mtry\u001b[39;00m:\n\u001b[1;32m    130\u001b[0m     descriptor\u001b[39m.\u001b[39m_set(submodel, old, new, hint\u001b[39m=\u001b[39mhint, setter\u001b[39m=\u001b[39m\u001b[39mself\u001b[39m)\n",
      "\u001b[0;31mAttributeError\u001b[0m: 'NoneType' object has no attribute 'lookup'"
     ]
    },
    {
     "ename": "AttributeError",
     "evalue": "'NoneType' object has no attribute 'lookup'",
     "output_type": "error",
     "traceback": [
      "\u001b[0;31m---------------------------------------------------------------------------\u001b[0m",
      "\u001b[0;31mAttributeError\u001b[0m                            Traceback (most recent call last)",
      "File \u001b[0;32m~/Documents/Projects/HRVInvestigator2/conda_env2/lib/python3.10/site-packages/jupyter_bokeh/widgets.py:128\u001b[0m, in \u001b[0;36mBokehModel._sync_model\u001b[0;34m(self, _, content, _buffers)\u001b[0m\n\u001b[1;32m    126\u001b[0m new, old, attr \u001b[39m=\u001b[39m content[\u001b[39m\"\u001b[39m\u001b[39mnew\u001b[39m\u001b[39m\"\u001b[39m], content[\u001b[39m\"\u001b[39m\u001b[39mold\u001b[39m\u001b[39m\"\u001b[39m], content[\u001b[39m\"\u001b[39m\u001b[39mattr\u001b[39m\u001b[39m\"\u001b[39m]\n\u001b[1;32m    127\u001b[0m submodel \u001b[39m=\u001b[39m \u001b[39mself\u001b[39m\u001b[39m.\u001b[39m_model\u001b[39m.\u001b[39mselect_one({\u001b[39m\"\u001b[39m\u001b[39mid\u001b[39m\u001b[39m\"\u001b[39m: content[\u001b[39m\"\u001b[39m\u001b[39mid\u001b[39m\u001b[39m\"\u001b[39m]})\n\u001b[0;32m--> 128\u001b[0m descriptor \u001b[39m=\u001b[39m submodel\u001b[39m.\u001b[39;49mlookup(content[\u001b[39m'\u001b[39m\u001b[39mattr\u001b[39m\u001b[39m'\u001b[39m])\n\u001b[1;32m    129\u001b[0m \u001b[39mtry\u001b[39;00m:\n\u001b[1;32m    130\u001b[0m     descriptor\u001b[39m.\u001b[39m_set(submodel, old, new, hint\u001b[39m=\u001b[39mhint, setter\u001b[39m=\u001b[39m\u001b[39mself\u001b[39m)\n",
      "\u001b[0;31mAttributeError\u001b[0m: 'NoneType' object has no attribute 'lookup'"
     ]
    },
    {
     "ename": "AttributeError",
     "evalue": "'NoneType' object has no attribute 'lookup'",
     "output_type": "error",
     "traceback": [
      "\u001b[0;31m---------------------------------------------------------------------------\u001b[0m",
      "\u001b[0;31mAttributeError\u001b[0m                            Traceback (most recent call last)",
      "File \u001b[0;32m~/Documents/Projects/HRVInvestigator2/conda_env2/lib/python3.10/site-packages/jupyter_bokeh/widgets.py:128\u001b[0m, in \u001b[0;36mBokehModel._sync_model\u001b[0;34m(self, _, content, _buffers)\u001b[0m\n\u001b[1;32m    126\u001b[0m new, old, attr \u001b[39m=\u001b[39m content[\u001b[39m\"\u001b[39m\u001b[39mnew\u001b[39m\u001b[39m\"\u001b[39m], content[\u001b[39m\"\u001b[39m\u001b[39mold\u001b[39m\u001b[39m\"\u001b[39m], content[\u001b[39m\"\u001b[39m\u001b[39mattr\u001b[39m\u001b[39m\"\u001b[39m]\n\u001b[1;32m    127\u001b[0m submodel \u001b[39m=\u001b[39m \u001b[39mself\u001b[39m\u001b[39m.\u001b[39m_model\u001b[39m.\u001b[39mselect_one({\u001b[39m\"\u001b[39m\u001b[39mid\u001b[39m\u001b[39m\"\u001b[39m: content[\u001b[39m\"\u001b[39m\u001b[39mid\u001b[39m\u001b[39m\"\u001b[39m]})\n\u001b[0;32m--> 128\u001b[0m descriptor \u001b[39m=\u001b[39m submodel\u001b[39m.\u001b[39;49mlookup(content[\u001b[39m'\u001b[39m\u001b[39mattr\u001b[39m\u001b[39m'\u001b[39m])\n\u001b[1;32m    129\u001b[0m \u001b[39mtry\u001b[39;00m:\n\u001b[1;32m    130\u001b[0m     descriptor\u001b[39m.\u001b[39m_set(submodel, old, new, hint\u001b[39m=\u001b[39mhint, setter\u001b[39m=\u001b[39m\u001b[39mself\u001b[39m)\n",
      "\u001b[0;31mAttributeError\u001b[0m: 'NoneType' object has no attribute 'lookup'"
     ]
    },
    {
     "ename": "AttributeError",
     "evalue": "'NoneType' object has no attribute 'lookup'",
     "output_type": "error",
     "traceback": [
      "\u001b[0;31m---------------------------------------------------------------------------\u001b[0m",
      "\u001b[0;31mAttributeError\u001b[0m                            Traceback (most recent call last)",
      "File \u001b[0;32m~/Documents/Projects/HRVInvestigator2/conda_env2/lib/python3.10/site-packages/jupyter_bokeh/widgets.py:128\u001b[0m, in \u001b[0;36mBokehModel._sync_model\u001b[0;34m(self, _, content, _buffers)\u001b[0m\n\u001b[1;32m    126\u001b[0m new, old, attr \u001b[39m=\u001b[39m content[\u001b[39m\"\u001b[39m\u001b[39mnew\u001b[39m\u001b[39m\"\u001b[39m], content[\u001b[39m\"\u001b[39m\u001b[39mold\u001b[39m\u001b[39m\"\u001b[39m], content[\u001b[39m\"\u001b[39m\u001b[39mattr\u001b[39m\u001b[39m\"\u001b[39m]\n\u001b[1;32m    127\u001b[0m submodel \u001b[39m=\u001b[39m \u001b[39mself\u001b[39m\u001b[39m.\u001b[39m_model\u001b[39m.\u001b[39mselect_one({\u001b[39m\"\u001b[39m\u001b[39mid\u001b[39m\u001b[39m\"\u001b[39m: content[\u001b[39m\"\u001b[39m\u001b[39mid\u001b[39m\u001b[39m\"\u001b[39m]})\n\u001b[0;32m--> 128\u001b[0m descriptor \u001b[39m=\u001b[39m submodel\u001b[39m.\u001b[39;49mlookup(content[\u001b[39m'\u001b[39m\u001b[39mattr\u001b[39m\u001b[39m'\u001b[39m])\n\u001b[1;32m    129\u001b[0m \u001b[39mtry\u001b[39;00m:\n\u001b[1;32m    130\u001b[0m     descriptor\u001b[39m.\u001b[39m_set(submodel, old, new, hint\u001b[39m=\u001b[39mhint, setter\u001b[39m=\u001b[39m\u001b[39mself\u001b[39m)\n",
      "\u001b[0;31mAttributeError\u001b[0m: 'NoneType' object has no attribute 'lookup'"
     ]
    },
    {
     "ename": "AttributeError",
     "evalue": "'NoneType' object has no attribute 'lookup'",
     "output_type": "error",
     "traceback": [
      "\u001b[0;31m---------------------------------------------------------------------------\u001b[0m",
      "\u001b[0;31mAttributeError\u001b[0m                            Traceback (most recent call last)",
      "File \u001b[0;32m~/Documents/Projects/HRVInvestigator2/conda_env2/lib/python3.10/site-packages/jupyter_bokeh/widgets.py:128\u001b[0m, in \u001b[0;36mBokehModel._sync_model\u001b[0;34m(self, _, content, _buffers)\u001b[0m\n\u001b[1;32m    126\u001b[0m new, old, attr \u001b[39m=\u001b[39m content[\u001b[39m\"\u001b[39m\u001b[39mnew\u001b[39m\u001b[39m\"\u001b[39m], content[\u001b[39m\"\u001b[39m\u001b[39mold\u001b[39m\u001b[39m\"\u001b[39m], content[\u001b[39m\"\u001b[39m\u001b[39mattr\u001b[39m\u001b[39m\"\u001b[39m]\n\u001b[1;32m    127\u001b[0m submodel \u001b[39m=\u001b[39m \u001b[39mself\u001b[39m\u001b[39m.\u001b[39m_model\u001b[39m.\u001b[39mselect_one({\u001b[39m\"\u001b[39m\u001b[39mid\u001b[39m\u001b[39m\"\u001b[39m: content[\u001b[39m\"\u001b[39m\u001b[39mid\u001b[39m\u001b[39m\"\u001b[39m]})\n\u001b[0;32m--> 128\u001b[0m descriptor \u001b[39m=\u001b[39m submodel\u001b[39m.\u001b[39;49mlookup(content[\u001b[39m'\u001b[39m\u001b[39mattr\u001b[39m\u001b[39m'\u001b[39m])\n\u001b[1;32m    129\u001b[0m \u001b[39mtry\u001b[39;00m:\n\u001b[1;32m    130\u001b[0m     descriptor\u001b[39m.\u001b[39m_set(submodel, old, new, hint\u001b[39m=\u001b[39mhint, setter\u001b[39m=\u001b[39m\u001b[39mself\u001b[39m)\n",
      "\u001b[0;31mAttributeError\u001b[0m: 'NoneType' object has no attribute 'lookup'"
     ]
    },
    {
     "ename": "AttributeError",
     "evalue": "'NoneType' object has no attribute 'lookup'",
     "output_type": "error",
     "traceback": [
      "\u001b[0;31m---------------------------------------------------------------------------\u001b[0m",
      "\u001b[0;31mAttributeError\u001b[0m                            Traceback (most recent call last)",
      "File \u001b[0;32m~/Documents/Projects/HRVInvestigator2/conda_env2/lib/python3.10/site-packages/jupyter_bokeh/widgets.py:128\u001b[0m, in \u001b[0;36mBokehModel._sync_model\u001b[0;34m(self, _, content, _buffers)\u001b[0m\n\u001b[1;32m    126\u001b[0m new, old, attr \u001b[39m=\u001b[39m content[\u001b[39m\"\u001b[39m\u001b[39mnew\u001b[39m\u001b[39m\"\u001b[39m], content[\u001b[39m\"\u001b[39m\u001b[39mold\u001b[39m\u001b[39m\"\u001b[39m], content[\u001b[39m\"\u001b[39m\u001b[39mattr\u001b[39m\u001b[39m\"\u001b[39m]\n\u001b[1;32m    127\u001b[0m submodel \u001b[39m=\u001b[39m \u001b[39mself\u001b[39m\u001b[39m.\u001b[39m_model\u001b[39m.\u001b[39mselect_one({\u001b[39m\"\u001b[39m\u001b[39mid\u001b[39m\u001b[39m\"\u001b[39m: content[\u001b[39m\"\u001b[39m\u001b[39mid\u001b[39m\u001b[39m\"\u001b[39m]})\n\u001b[0;32m--> 128\u001b[0m descriptor \u001b[39m=\u001b[39m submodel\u001b[39m.\u001b[39;49mlookup(content[\u001b[39m'\u001b[39m\u001b[39mattr\u001b[39m\u001b[39m'\u001b[39m])\n\u001b[1;32m    129\u001b[0m \u001b[39mtry\u001b[39;00m:\n\u001b[1;32m    130\u001b[0m     descriptor\u001b[39m.\u001b[39m_set(submodel, old, new, hint\u001b[39m=\u001b[39mhint, setter\u001b[39m=\u001b[39m\u001b[39mself\u001b[39m)\n",
      "\u001b[0;31mAttributeError\u001b[0m: 'NoneType' object has no attribute 'lookup'"
     ]
    },
    {
     "ename": "AttributeError",
     "evalue": "'NoneType' object has no attribute 'lookup'",
     "output_type": "error",
     "traceback": [
      "\u001b[0;31m---------------------------------------------------------------------------\u001b[0m",
      "\u001b[0;31mAttributeError\u001b[0m                            Traceback (most recent call last)",
      "File \u001b[0;32m~/Documents/Projects/HRVInvestigator2/conda_env2/lib/python3.10/site-packages/jupyter_bokeh/widgets.py:128\u001b[0m, in \u001b[0;36mBokehModel._sync_model\u001b[0;34m(self, _, content, _buffers)\u001b[0m\n\u001b[1;32m    126\u001b[0m new, old, attr \u001b[39m=\u001b[39m content[\u001b[39m\"\u001b[39m\u001b[39mnew\u001b[39m\u001b[39m\"\u001b[39m], content[\u001b[39m\"\u001b[39m\u001b[39mold\u001b[39m\u001b[39m\"\u001b[39m], content[\u001b[39m\"\u001b[39m\u001b[39mattr\u001b[39m\u001b[39m\"\u001b[39m]\n\u001b[1;32m    127\u001b[0m submodel \u001b[39m=\u001b[39m \u001b[39mself\u001b[39m\u001b[39m.\u001b[39m_model\u001b[39m.\u001b[39mselect_one({\u001b[39m\"\u001b[39m\u001b[39mid\u001b[39m\u001b[39m\"\u001b[39m: content[\u001b[39m\"\u001b[39m\u001b[39mid\u001b[39m\u001b[39m\"\u001b[39m]})\n\u001b[0;32m--> 128\u001b[0m descriptor \u001b[39m=\u001b[39m submodel\u001b[39m.\u001b[39;49mlookup(content[\u001b[39m'\u001b[39m\u001b[39mattr\u001b[39m\u001b[39m'\u001b[39m])\n\u001b[1;32m    129\u001b[0m \u001b[39mtry\u001b[39;00m:\n\u001b[1;32m    130\u001b[0m     descriptor\u001b[39m.\u001b[39m_set(submodel, old, new, hint\u001b[39m=\u001b[39mhint, setter\u001b[39m=\u001b[39m\u001b[39mself\u001b[39m)\n",
      "\u001b[0;31mAttributeError\u001b[0m: 'NoneType' object has no attribute 'lookup'"
     ]
    },
    {
     "ename": "AttributeError",
     "evalue": "'NoneType' object has no attribute 'lookup'",
     "output_type": "error",
     "traceback": [
      "\u001b[0;31m---------------------------------------------------------------------------\u001b[0m",
      "\u001b[0;31mAttributeError\u001b[0m                            Traceback (most recent call last)",
      "File \u001b[0;32m~/Documents/Projects/HRVInvestigator2/conda_env2/lib/python3.10/site-packages/jupyter_bokeh/widgets.py:128\u001b[0m, in \u001b[0;36mBokehModel._sync_model\u001b[0;34m(self, _, content, _buffers)\u001b[0m\n\u001b[1;32m    126\u001b[0m new, old, attr \u001b[39m=\u001b[39m content[\u001b[39m\"\u001b[39m\u001b[39mnew\u001b[39m\u001b[39m\"\u001b[39m], content[\u001b[39m\"\u001b[39m\u001b[39mold\u001b[39m\u001b[39m\"\u001b[39m], content[\u001b[39m\"\u001b[39m\u001b[39mattr\u001b[39m\u001b[39m\"\u001b[39m]\n\u001b[1;32m    127\u001b[0m submodel \u001b[39m=\u001b[39m \u001b[39mself\u001b[39m\u001b[39m.\u001b[39m_model\u001b[39m.\u001b[39mselect_one({\u001b[39m\"\u001b[39m\u001b[39mid\u001b[39m\u001b[39m\"\u001b[39m: content[\u001b[39m\"\u001b[39m\u001b[39mid\u001b[39m\u001b[39m\"\u001b[39m]})\n\u001b[0;32m--> 128\u001b[0m descriptor \u001b[39m=\u001b[39m submodel\u001b[39m.\u001b[39;49mlookup(content[\u001b[39m'\u001b[39m\u001b[39mattr\u001b[39m\u001b[39m'\u001b[39m])\n\u001b[1;32m    129\u001b[0m \u001b[39mtry\u001b[39;00m:\n\u001b[1;32m    130\u001b[0m     descriptor\u001b[39m.\u001b[39m_set(submodel, old, new, hint\u001b[39m=\u001b[39mhint, setter\u001b[39m=\u001b[39m\u001b[39mself\u001b[39m)\n",
      "\u001b[0;31mAttributeError\u001b[0m: 'NoneType' object has no attribute 'lookup'"
     ]
    },
    {
     "ename": "AttributeError",
     "evalue": "'NoneType' object has no attribute 'lookup'",
     "output_type": "error",
     "traceback": [
      "\u001b[0;31m---------------------------------------------------------------------------\u001b[0m",
      "\u001b[0;31mAttributeError\u001b[0m                            Traceback (most recent call last)",
      "File \u001b[0;32m~/Documents/Projects/HRVInvestigator2/conda_env2/lib/python3.10/site-packages/jupyter_bokeh/widgets.py:128\u001b[0m, in \u001b[0;36mBokehModel._sync_model\u001b[0;34m(self, _, content, _buffers)\u001b[0m\n\u001b[1;32m    126\u001b[0m new, old, attr \u001b[39m=\u001b[39m content[\u001b[39m\"\u001b[39m\u001b[39mnew\u001b[39m\u001b[39m\"\u001b[39m], content[\u001b[39m\"\u001b[39m\u001b[39mold\u001b[39m\u001b[39m\"\u001b[39m], content[\u001b[39m\"\u001b[39m\u001b[39mattr\u001b[39m\u001b[39m\"\u001b[39m]\n\u001b[1;32m    127\u001b[0m submodel \u001b[39m=\u001b[39m \u001b[39mself\u001b[39m\u001b[39m.\u001b[39m_model\u001b[39m.\u001b[39mselect_one({\u001b[39m\"\u001b[39m\u001b[39mid\u001b[39m\u001b[39m\"\u001b[39m: content[\u001b[39m\"\u001b[39m\u001b[39mid\u001b[39m\u001b[39m\"\u001b[39m]})\n\u001b[0;32m--> 128\u001b[0m descriptor \u001b[39m=\u001b[39m submodel\u001b[39m.\u001b[39;49mlookup(content[\u001b[39m'\u001b[39m\u001b[39mattr\u001b[39m\u001b[39m'\u001b[39m])\n\u001b[1;32m    129\u001b[0m \u001b[39mtry\u001b[39;00m:\n\u001b[1;32m    130\u001b[0m     descriptor\u001b[39m.\u001b[39m_set(submodel, old, new, hint\u001b[39m=\u001b[39mhint, setter\u001b[39m=\u001b[39m\u001b[39mself\u001b[39m)\n",
      "\u001b[0;31mAttributeError\u001b[0m: 'NoneType' object has no attribute 'lookup'"
     ]
    },
    {
     "ename": "AttributeError",
     "evalue": "'NoneType' object has no attribute 'lookup'",
     "output_type": "error",
     "traceback": [
      "\u001b[0;31m---------------------------------------------------------------------------\u001b[0m",
      "\u001b[0;31mAttributeError\u001b[0m                            Traceback (most recent call last)",
      "File \u001b[0;32m~/Documents/Projects/HRVInvestigator2/conda_env2/lib/python3.10/site-packages/jupyter_bokeh/widgets.py:128\u001b[0m, in \u001b[0;36mBokehModel._sync_model\u001b[0;34m(self, _, content, _buffers)\u001b[0m\n\u001b[1;32m    126\u001b[0m new, old, attr \u001b[39m=\u001b[39m content[\u001b[39m\"\u001b[39m\u001b[39mnew\u001b[39m\u001b[39m\"\u001b[39m], content[\u001b[39m\"\u001b[39m\u001b[39mold\u001b[39m\u001b[39m\"\u001b[39m], content[\u001b[39m\"\u001b[39m\u001b[39mattr\u001b[39m\u001b[39m\"\u001b[39m]\n\u001b[1;32m    127\u001b[0m submodel \u001b[39m=\u001b[39m \u001b[39mself\u001b[39m\u001b[39m.\u001b[39m_model\u001b[39m.\u001b[39mselect_one({\u001b[39m\"\u001b[39m\u001b[39mid\u001b[39m\u001b[39m\"\u001b[39m: content[\u001b[39m\"\u001b[39m\u001b[39mid\u001b[39m\u001b[39m\"\u001b[39m]})\n\u001b[0;32m--> 128\u001b[0m descriptor \u001b[39m=\u001b[39m submodel\u001b[39m.\u001b[39;49mlookup(content[\u001b[39m'\u001b[39m\u001b[39mattr\u001b[39m\u001b[39m'\u001b[39m])\n\u001b[1;32m    129\u001b[0m \u001b[39mtry\u001b[39;00m:\n\u001b[1;32m    130\u001b[0m     descriptor\u001b[39m.\u001b[39m_set(submodel, old, new, hint\u001b[39m=\u001b[39mhint, setter\u001b[39m=\u001b[39m\u001b[39mself\u001b[39m)\n",
      "\u001b[0;31mAttributeError\u001b[0m: 'NoneType' object has no attribute 'lookup'"
     ]
    },
    {
     "ename": "AttributeError",
     "evalue": "'NoneType' object has no attribute 'lookup'",
     "output_type": "error",
     "traceback": [
      "\u001b[0;31m---------------------------------------------------------------------------\u001b[0m",
      "\u001b[0;31mAttributeError\u001b[0m                            Traceback (most recent call last)",
      "File \u001b[0;32m~/Documents/Projects/HRVInvestigator2/conda_env2/lib/python3.10/site-packages/jupyter_bokeh/widgets.py:128\u001b[0m, in \u001b[0;36mBokehModel._sync_model\u001b[0;34m(self, _, content, _buffers)\u001b[0m\n\u001b[1;32m    126\u001b[0m new, old, attr \u001b[39m=\u001b[39m content[\u001b[39m\"\u001b[39m\u001b[39mnew\u001b[39m\u001b[39m\"\u001b[39m], content[\u001b[39m\"\u001b[39m\u001b[39mold\u001b[39m\u001b[39m\"\u001b[39m], content[\u001b[39m\"\u001b[39m\u001b[39mattr\u001b[39m\u001b[39m\"\u001b[39m]\n\u001b[1;32m    127\u001b[0m submodel \u001b[39m=\u001b[39m \u001b[39mself\u001b[39m\u001b[39m.\u001b[39m_model\u001b[39m.\u001b[39mselect_one({\u001b[39m\"\u001b[39m\u001b[39mid\u001b[39m\u001b[39m\"\u001b[39m: content[\u001b[39m\"\u001b[39m\u001b[39mid\u001b[39m\u001b[39m\"\u001b[39m]})\n\u001b[0;32m--> 128\u001b[0m descriptor \u001b[39m=\u001b[39m submodel\u001b[39m.\u001b[39;49mlookup(content[\u001b[39m'\u001b[39m\u001b[39mattr\u001b[39m\u001b[39m'\u001b[39m])\n\u001b[1;32m    129\u001b[0m \u001b[39mtry\u001b[39;00m:\n\u001b[1;32m    130\u001b[0m     descriptor\u001b[39m.\u001b[39m_set(submodel, old, new, hint\u001b[39m=\u001b[39mhint, setter\u001b[39m=\u001b[39m\u001b[39mself\u001b[39m)\n",
      "\u001b[0;31mAttributeError\u001b[0m: 'NoneType' object has no attribute 'lookup'"
     ]
    },
    {
     "ename": "AttributeError",
     "evalue": "'NoneType' object has no attribute 'lookup'",
     "output_type": "error",
     "traceback": [
      "\u001b[0;31m---------------------------------------------------------------------------\u001b[0m",
      "\u001b[0;31mAttributeError\u001b[0m                            Traceback (most recent call last)",
      "File \u001b[0;32m~/Documents/Projects/HRVInvestigator2/conda_env2/lib/python3.10/site-packages/jupyter_bokeh/widgets.py:128\u001b[0m, in \u001b[0;36mBokehModel._sync_model\u001b[0;34m(self, _, content, _buffers)\u001b[0m\n\u001b[1;32m    126\u001b[0m new, old, attr \u001b[39m=\u001b[39m content[\u001b[39m\"\u001b[39m\u001b[39mnew\u001b[39m\u001b[39m\"\u001b[39m], content[\u001b[39m\"\u001b[39m\u001b[39mold\u001b[39m\u001b[39m\"\u001b[39m], content[\u001b[39m\"\u001b[39m\u001b[39mattr\u001b[39m\u001b[39m\"\u001b[39m]\n\u001b[1;32m    127\u001b[0m submodel \u001b[39m=\u001b[39m \u001b[39mself\u001b[39m\u001b[39m.\u001b[39m_model\u001b[39m.\u001b[39mselect_one({\u001b[39m\"\u001b[39m\u001b[39mid\u001b[39m\u001b[39m\"\u001b[39m: content[\u001b[39m\"\u001b[39m\u001b[39mid\u001b[39m\u001b[39m\"\u001b[39m]})\n\u001b[0;32m--> 128\u001b[0m descriptor \u001b[39m=\u001b[39m submodel\u001b[39m.\u001b[39;49mlookup(content[\u001b[39m'\u001b[39m\u001b[39mattr\u001b[39m\u001b[39m'\u001b[39m])\n\u001b[1;32m    129\u001b[0m \u001b[39mtry\u001b[39;00m:\n\u001b[1;32m    130\u001b[0m     descriptor\u001b[39m.\u001b[39m_set(submodel, old, new, hint\u001b[39m=\u001b[39mhint, setter\u001b[39m=\u001b[39m\u001b[39mself\u001b[39m)\n",
      "\u001b[0;31mAttributeError\u001b[0m: 'NoneType' object has no attribute 'lookup'"
     ]
    },
    {
     "ename": "AttributeError",
     "evalue": "'NoneType' object has no attribute 'lookup'",
     "output_type": "error",
     "traceback": [
      "\u001b[0;31m---------------------------------------------------------------------------\u001b[0m",
      "\u001b[0;31mAttributeError\u001b[0m                            Traceback (most recent call last)",
      "File \u001b[0;32m~/Documents/Projects/HRVInvestigator2/conda_env2/lib/python3.10/site-packages/jupyter_bokeh/widgets.py:128\u001b[0m, in \u001b[0;36mBokehModel._sync_model\u001b[0;34m(self, _, content, _buffers)\u001b[0m\n\u001b[1;32m    126\u001b[0m new, old, attr \u001b[39m=\u001b[39m content[\u001b[39m\"\u001b[39m\u001b[39mnew\u001b[39m\u001b[39m\"\u001b[39m], content[\u001b[39m\"\u001b[39m\u001b[39mold\u001b[39m\u001b[39m\"\u001b[39m], content[\u001b[39m\"\u001b[39m\u001b[39mattr\u001b[39m\u001b[39m\"\u001b[39m]\n\u001b[1;32m    127\u001b[0m submodel \u001b[39m=\u001b[39m \u001b[39mself\u001b[39m\u001b[39m.\u001b[39m_model\u001b[39m.\u001b[39mselect_one({\u001b[39m\"\u001b[39m\u001b[39mid\u001b[39m\u001b[39m\"\u001b[39m: content[\u001b[39m\"\u001b[39m\u001b[39mid\u001b[39m\u001b[39m\"\u001b[39m]})\n\u001b[0;32m--> 128\u001b[0m descriptor \u001b[39m=\u001b[39m submodel\u001b[39m.\u001b[39;49mlookup(content[\u001b[39m'\u001b[39m\u001b[39mattr\u001b[39m\u001b[39m'\u001b[39m])\n\u001b[1;32m    129\u001b[0m \u001b[39mtry\u001b[39;00m:\n\u001b[1;32m    130\u001b[0m     descriptor\u001b[39m.\u001b[39m_set(submodel, old, new, hint\u001b[39m=\u001b[39mhint, setter\u001b[39m=\u001b[39m\u001b[39mself\u001b[39m)\n",
      "\u001b[0;31mAttributeError\u001b[0m: 'NoneType' object has no attribute 'lookup'"
     ]
    },
    {
     "ename": "AttributeError",
     "evalue": "'NoneType' object has no attribute 'lookup'",
     "output_type": "error",
     "traceback": [
      "\u001b[0;31m---------------------------------------------------------------------------\u001b[0m",
      "\u001b[0;31mAttributeError\u001b[0m                            Traceback (most recent call last)",
      "File \u001b[0;32m~/Documents/Projects/HRVInvestigator2/conda_env2/lib/python3.10/site-packages/jupyter_bokeh/widgets.py:128\u001b[0m, in \u001b[0;36mBokehModel._sync_model\u001b[0;34m(self, _, content, _buffers)\u001b[0m\n\u001b[1;32m    126\u001b[0m new, old, attr \u001b[39m=\u001b[39m content[\u001b[39m\"\u001b[39m\u001b[39mnew\u001b[39m\u001b[39m\"\u001b[39m], content[\u001b[39m\"\u001b[39m\u001b[39mold\u001b[39m\u001b[39m\"\u001b[39m], content[\u001b[39m\"\u001b[39m\u001b[39mattr\u001b[39m\u001b[39m\"\u001b[39m]\n\u001b[1;32m    127\u001b[0m submodel \u001b[39m=\u001b[39m \u001b[39mself\u001b[39m\u001b[39m.\u001b[39m_model\u001b[39m.\u001b[39mselect_one({\u001b[39m\"\u001b[39m\u001b[39mid\u001b[39m\u001b[39m\"\u001b[39m: content[\u001b[39m\"\u001b[39m\u001b[39mid\u001b[39m\u001b[39m\"\u001b[39m]})\n\u001b[0;32m--> 128\u001b[0m descriptor \u001b[39m=\u001b[39m submodel\u001b[39m.\u001b[39;49mlookup(content[\u001b[39m'\u001b[39m\u001b[39mattr\u001b[39m\u001b[39m'\u001b[39m])\n\u001b[1;32m    129\u001b[0m \u001b[39mtry\u001b[39;00m:\n\u001b[1;32m    130\u001b[0m     descriptor\u001b[39m.\u001b[39m_set(submodel, old, new, hint\u001b[39m=\u001b[39mhint, setter\u001b[39m=\u001b[39m\u001b[39mself\u001b[39m)\n",
      "\u001b[0;31mAttributeError\u001b[0m: 'NoneType' object has no attribute 'lookup'"
     ]
    },
    {
     "ename": "AttributeError",
     "evalue": "'NoneType' object has no attribute 'lookup'",
     "output_type": "error",
     "traceback": [
      "\u001b[0;31m---------------------------------------------------------------------------\u001b[0m",
      "\u001b[0;31mAttributeError\u001b[0m                            Traceback (most recent call last)",
      "File \u001b[0;32m~/Documents/Projects/HRVInvestigator2/conda_env2/lib/python3.10/site-packages/jupyter_bokeh/widgets.py:128\u001b[0m, in \u001b[0;36mBokehModel._sync_model\u001b[0;34m(self, _, content, _buffers)\u001b[0m\n\u001b[1;32m    126\u001b[0m new, old, attr \u001b[39m=\u001b[39m content[\u001b[39m\"\u001b[39m\u001b[39mnew\u001b[39m\u001b[39m\"\u001b[39m], content[\u001b[39m\"\u001b[39m\u001b[39mold\u001b[39m\u001b[39m\"\u001b[39m], content[\u001b[39m\"\u001b[39m\u001b[39mattr\u001b[39m\u001b[39m\"\u001b[39m]\n\u001b[1;32m    127\u001b[0m submodel \u001b[39m=\u001b[39m \u001b[39mself\u001b[39m\u001b[39m.\u001b[39m_model\u001b[39m.\u001b[39mselect_one({\u001b[39m\"\u001b[39m\u001b[39mid\u001b[39m\u001b[39m\"\u001b[39m: content[\u001b[39m\"\u001b[39m\u001b[39mid\u001b[39m\u001b[39m\"\u001b[39m]})\n\u001b[0;32m--> 128\u001b[0m descriptor \u001b[39m=\u001b[39m submodel\u001b[39m.\u001b[39;49mlookup(content[\u001b[39m'\u001b[39m\u001b[39mattr\u001b[39m\u001b[39m'\u001b[39m])\n\u001b[1;32m    129\u001b[0m \u001b[39mtry\u001b[39;00m:\n\u001b[1;32m    130\u001b[0m     descriptor\u001b[39m.\u001b[39m_set(submodel, old, new, hint\u001b[39m=\u001b[39mhint, setter\u001b[39m=\u001b[39m\u001b[39mself\u001b[39m)\n",
      "\u001b[0;31mAttributeError\u001b[0m: 'NoneType' object has no attribute 'lookup'"
     ]
    },
    {
     "ename": "AttributeError",
     "evalue": "'NoneType' object has no attribute 'lookup'",
     "output_type": "error",
     "traceback": [
      "\u001b[0;31m---------------------------------------------------------------------------\u001b[0m",
      "\u001b[0;31mAttributeError\u001b[0m                            Traceback (most recent call last)",
      "File \u001b[0;32m~/Documents/Projects/HRVInvestigator2/conda_env2/lib/python3.10/site-packages/jupyter_bokeh/widgets.py:128\u001b[0m, in \u001b[0;36mBokehModel._sync_model\u001b[0;34m(self, _, content, _buffers)\u001b[0m\n\u001b[1;32m    126\u001b[0m new, old, attr \u001b[39m=\u001b[39m content[\u001b[39m\"\u001b[39m\u001b[39mnew\u001b[39m\u001b[39m\"\u001b[39m], content[\u001b[39m\"\u001b[39m\u001b[39mold\u001b[39m\u001b[39m\"\u001b[39m], content[\u001b[39m\"\u001b[39m\u001b[39mattr\u001b[39m\u001b[39m\"\u001b[39m]\n\u001b[1;32m    127\u001b[0m submodel \u001b[39m=\u001b[39m \u001b[39mself\u001b[39m\u001b[39m.\u001b[39m_model\u001b[39m.\u001b[39mselect_one({\u001b[39m\"\u001b[39m\u001b[39mid\u001b[39m\u001b[39m\"\u001b[39m: content[\u001b[39m\"\u001b[39m\u001b[39mid\u001b[39m\u001b[39m\"\u001b[39m]})\n\u001b[0;32m--> 128\u001b[0m descriptor \u001b[39m=\u001b[39m submodel\u001b[39m.\u001b[39;49mlookup(content[\u001b[39m'\u001b[39m\u001b[39mattr\u001b[39m\u001b[39m'\u001b[39m])\n\u001b[1;32m    129\u001b[0m \u001b[39mtry\u001b[39;00m:\n\u001b[1;32m    130\u001b[0m     descriptor\u001b[39m.\u001b[39m_set(submodel, old, new, hint\u001b[39m=\u001b[39mhint, setter\u001b[39m=\u001b[39m\u001b[39mself\u001b[39m)\n",
      "\u001b[0;31mAttributeError\u001b[0m: 'NoneType' object has no attribute 'lookup'"
     ]
    },
    {
     "ename": "AttributeError",
     "evalue": "'NoneType' object has no attribute 'lookup'",
     "output_type": "error",
     "traceback": [
      "\u001b[0;31m---------------------------------------------------------------------------\u001b[0m",
      "\u001b[0;31mAttributeError\u001b[0m                            Traceback (most recent call last)",
      "File \u001b[0;32m~/Documents/Projects/HRVInvestigator2/conda_env2/lib/python3.10/site-packages/jupyter_bokeh/widgets.py:128\u001b[0m, in \u001b[0;36mBokehModel._sync_model\u001b[0;34m(self, _, content, _buffers)\u001b[0m\n\u001b[1;32m    126\u001b[0m new, old, attr \u001b[39m=\u001b[39m content[\u001b[39m\"\u001b[39m\u001b[39mnew\u001b[39m\u001b[39m\"\u001b[39m], content[\u001b[39m\"\u001b[39m\u001b[39mold\u001b[39m\u001b[39m\"\u001b[39m], content[\u001b[39m\"\u001b[39m\u001b[39mattr\u001b[39m\u001b[39m\"\u001b[39m]\n\u001b[1;32m    127\u001b[0m submodel \u001b[39m=\u001b[39m \u001b[39mself\u001b[39m\u001b[39m.\u001b[39m_model\u001b[39m.\u001b[39mselect_one({\u001b[39m\"\u001b[39m\u001b[39mid\u001b[39m\u001b[39m\"\u001b[39m: content[\u001b[39m\"\u001b[39m\u001b[39mid\u001b[39m\u001b[39m\"\u001b[39m]})\n\u001b[0;32m--> 128\u001b[0m descriptor \u001b[39m=\u001b[39m submodel\u001b[39m.\u001b[39;49mlookup(content[\u001b[39m'\u001b[39m\u001b[39mattr\u001b[39m\u001b[39m'\u001b[39m])\n\u001b[1;32m    129\u001b[0m \u001b[39mtry\u001b[39;00m:\n\u001b[1;32m    130\u001b[0m     descriptor\u001b[39m.\u001b[39m_set(submodel, old, new, hint\u001b[39m=\u001b[39mhint, setter\u001b[39m=\u001b[39m\u001b[39mself\u001b[39m)\n",
      "\u001b[0;31mAttributeError\u001b[0m: 'NoneType' object has no attribute 'lookup'"
     ]
    },
    {
     "ename": "AttributeError",
     "evalue": "'NoneType' object has no attribute 'lookup'",
     "output_type": "error",
     "traceback": [
      "\u001b[0;31m---------------------------------------------------------------------------\u001b[0m",
      "\u001b[0;31mAttributeError\u001b[0m                            Traceback (most recent call last)",
      "File \u001b[0;32m~/Documents/Projects/HRVInvestigator2/conda_env2/lib/python3.10/site-packages/jupyter_bokeh/widgets.py:128\u001b[0m, in \u001b[0;36mBokehModel._sync_model\u001b[0;34m(self, _, content, _buffers)\u001b[0m\n\u001b[1;32m    126\u001b[0m new, old, attr \u001b[39m=\u001b[39m content[\u001b[39m\"\u001b[39m\u001b[39mnew\u001b[39m\u001b[39m\"\u001b[39m], content[\u001b[39m\"\u001b[39m\u001b[39mold\u001b[39m\u001b[39m\"\u001b[39m], content[\u001b[39m\"\u001b[39m\u001b[39mattr\u001b[39m\u001b[39m\"\u001b[39m]\n\u001b[1;32m    127\u001b[0m submodel \u001b[39m=\u001b[39m \u001b[39mself\u001b[39m\u001b[39m.\u001b[39m_model\u001b[39m.\u001b[39mselect_one({\u001b[39m\"\u001b[39m\u001b[39mid\u001b[39m\u001b[39m\"\u001b[39m: content[\u001b[39m\"\u001b[39m\u001b[39mid\u001b[39m\u001b[39m\"\u001b[39m]})\n\u001b[0;32m--> 128\u001b[0m descriptor \u001b[39m=\u001b[39m submodel\u001b[39m.\u001b[39;49mlookup(content[\u001b[39m'\u001b[39m\u001b[39mattr\u001b[39m\u001b[39m'\u001b[39m])\n\u001b[1;32m    129\u001b[0m \u001b[39mtry\u001b[39;00m:\n\u001b[1;32m    130\u001b[0m     descriptor\u001b[39m.\u001b[39m_set(submodel, old, new, hint\u001b[39m=\u001b[39mhint, setter\u001b[39m=\u001b[39m\u001b[39mself\u001b[39m)\n",
      "\u001b[0;31mAttributeError\u001b[0m: 'NoneType' object has no attribute 'lookup'"
     ]
    },
    {
     "ename": "AttributeError",
     "evalue": "'NoneType' object has no attribute 'lookup'",
     "output_type": "error",
     "traceback": [
      "\u001b[0;31m---------------------------------------------------------------------------\u001b[0m",
      "\u001b[0;31mAttributeError\u001b[0m                            Traceback (most recent call last)",
      "File \u001b[0;32m~/Documents/Projects/HRVInvestigator2/conda_env2/lib/python3.10/site-packages/jupyter_bokeh/widgets.py:128\u001b[0m, in \u001b[0;36mBokehModel._sync_model\u001b[0;34m(self, _, content, _buffers)\u001b[0m\n\u001b[1;32m    126\u001b[0m new, old, attr \u001b[39m=\u001b[39m content[\u001b[39m\"\u001b[39m\u001b[39mnew\u001b[39m\u001b[39m\"\u001b[39m], content[\u001b[39m\"\u001b[39m\u001b[39mold\u001b[39m\u001b[39m\"\u001b[39m], content[\u001b[39m\"\u001b[39m\u001b[39mattr\u001b[39m\u001b[39m\"\u001b[39m]\n\u001b[1;32m    127\u001b[0m submodel \u001b[39m=\u001b[39m \u001b[39mself\u001b[39m\u001b[39m.\u001b[39m_model\u001b[39m.\u001b[39mselect_one({\u001b[39m\"\u001b[39m\u001b[39mid\u001b[39m\u001b[39m\"\u001b[39m: content[\u001b[39m\"\u001b[39m\u001b[39mid\u001b[39m\u001b[39m\"\u001b[39m]})\n\u001b[0;32m--> 128\u001b[0m descriptor \u001b[39m=\u001b[39m submodel\u001b[39m.\u001b[39;49mlookup(content[\u001b[39m'\u001b[39m\u001b[39mattr\u001b[39m\u001b[39m'\u001b[39m])\n\u001b[1;32m    129\u001b[0m \u001b[39mtry\u001b[39;00m:\n\u001b[1;32m    130\u001b[0m     descriptor\u001b[39m.\u001b[39m_set(submodel, old, new, hint\u001b[39m=\u001b[39mhint, setter\u001b[39m=\u001b[39m\u001b[39mself\u001b[39m)\n",
      "\u001b[0;31mAttributeError\u001b[0m: 'NoneType' object has no attribute 'lookup'"
     ]
    }
   ],
   "source": [
    "\n",
    "# instead of tabs use buttons that change the layout\n",
    "# create a top bar with a button for each panel with data and console beeing rightbound\n",
    "process_button = pn.widgets.Button(\n",
    "    name='Process', button_type='primary', width=200)\n",
    "insights_button = pn.widgets.Button(\n",
    "    name='Insights', button_type='light', width=200)\n",
    "machine_learning_button = pn.widgets.Button(\n",
    "    name='Machine Learning', button_type='light', width=200)\n",
    "data_button = pn.widgets.Button(\n",
    "    name='Data', button_type='light', align='end', width=200)\n",
    "console_button = pn.widgets.Button(\n",
    "    name='Console', button_type='light', align='end', width=200)\n",
    "buttonList = [process_button, insights_button,\n",
    "              machine_learning_button, data_button, console_button]\n",
    "\n",
    "\n",
    "def resetAllButtons():\n",
    "    for button in buttonList:\n",
    "        button.button_type = \"default\"\n",
    "\n",
    "\n",
    "top_bar = pn.FlexBox(pn.Row(process_button, insights_button, machine_learning_button), pn.Row(\n",
    "    data_button, console_button), justify_content='space-between', sizing_mode='stretch_width', css_classes=[\"top-bar\"])\n",
    "\n",
    "\n",
    "\n",
    "layout = pn.Column(top_bar, processing_panel, sizing_mode='stretch_width')\n",
    "# on click of buttons change the layout\n",
    "\n",
    "\n",
    "def openProcessing(*events):\n",
    "    resetAllButtons()\n",
    "    process_button.button_type = 'primary'\n",
    "    layout[1].loading = True\n",
    "    layout[1] = processing_panel\n",
    "    layout[1].loading = False\n",
    "\n",
    "\n",
    "def openInsights(*events):\n",
    "    resetAllButtons()\n",
    "    insights_button.button_type = 'primary'\n",
    "    layout[1].loading = True\n",
    "    layout[1] = insights_panel\n",
    "    layout[1].loading = False\n",
    "\n",
    "\n",
    "def openML(*events):\n",
    "    resetAllButtons()\n",
    "    machine_learning_button.button_type = 'primary'\n",
    "    layout[1].loading = True\n",
    "    layout[1] = ml_panel\n",
    "    layout[1].loading = False\n",
    "\n",
    "\n",
    "def openData(*events):\n",
    "    resetAllButtons()\n",
    "    data_button.button_type = 'primary'\n",
    "    layout[1].loading = True\n",
    "    layout[1] = data_panel\n",
    "    layout[1].loading = False\n",
    "\n",
    "\n",
    "def openConsole(*events):\n",
    "    resetAllButtons()\n",
    "    console_button.button_type = 'primary'\n",
    "    layout[1].loading = True\n",
    "    layout[1] = console_panel\n",
    "    layout[1].loading = False\n",
    "\n",
    "\n",
    "process_button.on_click(openProcessing)\n",
    "insights_button.on_click(openInsights)\n",
    "machine_learning_button.on_click(openML)\n",
    "data_button.on_click(openData)\n",
    "console_button.on_click(openConsole)\n",
    "\n",
    "\n",
    "layout.servable()\n",
    "# we can serve via cmd using : panel serve test.ipynb\n"
   ]
  },
  {
   "cell_type": "markdown",
   "id": "3b306ae2",
   "metadata": {},
   "source": []
  }
 ],
 "metadata": {
  "kernelspec": {
   "display_name": "Python 3.10.6 (conda)",
   "language": "python",
   "name": "python3"
  },
  "language_info": {
   "codemirror_mode": {
    "name": "ipython",
    "version": 3
   },
   "file_extension": ".py",
   "mimetype": "text/x-python",
   "name": "python",
   "nbconvert_exporter": "python",
   "pygments_lexer": "ipython3",
   "version": "3.10.6"
  },
  "vscode": {
   "interpreter": {
    "hash": "ff6aa29eb9256b45efbdf92c08e4968c99230844f231a8dce907be35eaef95c3"
   }
  }
 },
 "nbformat": 4,
 "nbformat_minor": 5
}
